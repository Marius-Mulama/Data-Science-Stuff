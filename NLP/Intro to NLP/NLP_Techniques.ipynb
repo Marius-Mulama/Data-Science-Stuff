{
 "cells": [
  {
   "cell_type": "markdown",
   "metadata": {},
   "source": [
    "## INTRODUCTION TO NLP\n",
    "### Some differenc NLP Concepts/techniques"
   ]
  },
  {
   "cell_type": "markdown",
   "metadata": {
    "id": "Xsr8twPS-OgR"
   },
   "source": [
    "\n",
    "# Introduction\n"
   ]
  },
  {
   "cell_type": "markdown",
   "metadata": {
    "id": "XCQ_5BtbItAX"
   },
   "source": [
    "This is the assignment submission\n",
    "\n",
    "The data set used comes from https://www.kaggle.com/datasets/crxxom/football-transfer-news-for-nlp\n",
    "\n",
    "The dataset contains football transfer news from different sources. I only limited it to thelast month of the summer transfer window of 2023.\n",
    "\n",
    "Its aim is just to explore how the different techniques work and how to perform them using different libraries.\n",
    "\n",
    "Results for the first row are only going to be checked.\n",
    "\n",
    "This notebook was created in and run on google colaboratory.\n"
   ]
  },
  {
   "cell_type": "code",
   "execution_count": 1,
   "metadata": {
    "colab": {
     "base_uri": "https://localhost:8080/"
    },
    "id": "rObESFvSKz_V",
    "outputId": "a7afb05d-be06-41aa-dbd2-9527818aac9b",
    "scrolled": true
   },
   "outputs": [
    {
     "ename": "KeyboardInterrupt",
     "evalue": "",
     "output_type": "error",
     "traceback": [
      "\u001b[1;31m---------------------------------------------------------------------------\u001b[0m",
      "\u001b[1;31mKeyboardInterrupt\u001b[0m                         Traceback (most recent call last)",
      "\u001b[1;32m<ipython-input-1-e5c57a43732c>\u001b[0m in \u001b[0;36m<module>\u001b[1;34m\u001b[0m\n\u001b[0;32m      3\u001b[0m \u001b[1;33m\u001b[0m\u001b[0m\n\u001b[0;32m      4\u001b[0m \u001b[1;32mimport\u001b[0m \u001b[0mnltk\u001b[0m\u001b[1;33m\u001b[0m\u001b[1;33m\u001b[0m\u001b[0m\n\u001b[1;32m----> 5\u001b[1;33m \u001b[1;32mimport\u001b[0m \u001b[0mspacy\u001b[0m\u001b[1;33m\u001b[0m\u001b[1;33m\u001b[0m\u001b[0m\n\u001b[0m\u001b[0;32m      6\u001b[0m \u001b[1;32mfrom\u001b[0m \u001b[0mnltk\u001b[0m\u001b[1;33m.\u001b[0m\u001b[0mstem\u001b[0m \u001b[1;32mimport\u001b[0m \u001b[0mPorterStemmer\u001b[0m\u001b[1;33m\u001b[0m\u001b[1;33m\u001b[0m\u001b[0m\n\u001b[0;32m      7\u001b[0m \u001b[1;32mfrom\u001b[0m \u001b[0mnltk\u001b[0m\u001b[1;33m.\u001b[0m\u001b[0mtokenize\u001b[0m \u001b[1;32mimport\u001b[0m \u001b[0mword_tokenize\u001b[0m\u001b[1;33m,\u001b[0m \u001b[0msent_tokenize\u001b[0m\u001b[1;33m\u001b[0m\u001b[1;33m\u001b[0m\u001b[0m\n",
      "\u001b[1;32mc:\\users\\admin\\appdata\\local\\programs\\python\\python39\\lib\\site-packages\\spacy\\__init__.py\u001b[0m in \u001b[0;36m<module>\u001b[1;34m\u001b[0m\n\u001b[0;32m      4\u001b[0m \u001b[1;33m\u001b[0m\u001b[0m\n\u001b[0;32m      5\u001b[0m \u001b[1;31m# set library-specific custom warning handling before doing anything else\u001b[0m\u001b[1;33m\u001b[0m\u001b[1;33m\u001b[0m\u001b[1;33m\u001b[0m\u001b[0m\n\u001b[1;32m----> 6\u001b[1;33m \u001b[1;32mfrom\u001b[0m \u001b[1;33m.\u001b[0m\u001b[0merrors\u001b[0m \u001b[1;32mimport\u001b[0m \u001b[0msetup_default_warnings\u001b[0m\u001b[1;33m\u001b[0m\u001b[1;33m\u001b[0m\u001b[0m\n\u001b[0m\u001b[0;32m      7\u001b[0m \u001b[1;33m\u001b[0m\u001b[0m\n\u001b[0;32m      8\u001b[0m \u001b[0msetup_default_warnings\u001b[0m\u001b[1;33m(\u001b[0m\u001b[1;33m)\u001b[0m  \u001b[1;31m# noqa: E402\u001b[0m\u001b[1;33m\u001b[0m\u001b[1;33m\u001b[0m\u001b[0m\n",
      "\u001b[1;32mc:\\users\\admin\\appdata\\local\\programs\\python\\python39\\lib\\site-packages\\spacy\\errors.py\u001b[0m in \u001b[0;36m<module>\u001b[1;34m\u001b[0m\n\u001b[0;32m      1\u001b[0m \u001b[1;32mimport\u001b[0m \u001b[0mwarnings\u001b[0m\u001b[1;33m\u001b[0m\u001b[1;33m\u001b[0m\u001b[0m\n\u001b[0;32m      2\u001b[0m \u001b[1;33m\u001b[0m\u001b[0m\n\u001b[1;32m----> 3\u001b[1;33m \u001b[1;32mfrom\u001b[0m \u001b[1;33m.\u001b[0m\u001b[0mcompat\u001b[0m \u001b[1;32mimport\u001b[0m \u001b[0mLiteral\u001b[0m\u001b[1;33m\u001b[0m\u001b[1;33m\u001b[0m\u001b[0m\n\u001b[0m\u001b[0;32m      4\u001b[0m \u001b[1;33m\u001b[0m\u001b[0m\n\u001b[0;32m      5\u001b[0m \u001b[1;33m\u001b[0m\u001b[0m\n",
      "\u001b[1;32mc:\\users\\admin\\appdata\\local\\programs\\python\\python39\\lib\\site-packages\\spacy\\compat.py\u001b[0m in \u001b[0;36m<module>\u001b[1;34m\u001b[0m\n\u001b[0;32m      2\u001b[0m \u001b[1;32mimport\u001b[0m \u001b[0msys\u001b[0m\u001b[1;33m\u001b[0m\u001b[1;33m\u001b[0m\u001b[0m\n\u001b[0;32m      3\u001b[0m \u001b[1;33m\u001b[0m\u001b[0m\n\u001b[1;32m----> 4\u001b[1;33m \u001b[1;32mfrom\u001b[0m \u001b[0mthinc\u001b[0m\u001b[1;33m.\u001b[0m\u001b[0mutil\u001b[0m \u001b[1;32mimport\u001b[0m \u001b[0mcopy_array\u001b[0m\u001b[1;33m\u001b[0m\u001b[1;33m\u001b[0m\u001b[0m\n\u001b[0m\u001b[0;32m      5\u001b[0m \u001b[1;33m\u001b[0m\u001b[0m\n\u001b[0;32m      6\u001b[0m \u001b[1;32mtry\u001b[0m\u001b[1;33m:\u001b[0m\u001b[1;33m\u001b[0m\u001b[1;33m\u001b[0m\u001b[0m\n",
      "\u001b[1;32mc:\\users\\admin\\appdata\\local\\programs\\python\\python39\\lib\\site-packages\\thinc\\__init__.py\u001b[0m in \u001b[0;36m<module>\u001b[1;34m\u001b[0m\n\u001b[0;32m      3\u001b[0m \u001b[1;33m\u001b[0m\u001b[0m\n\u001b[0;32m      4\u001b[0m \u001b[1;32mfrom\u001b[0m \u001b[1;33m.\u001b[0m\u001b[0mabout\u001b[0m \u001b[1;32mimport\u001b[0m \u001b[0m__version__\u001b[0m\u001b[1;33m\u001b[0m\u001b[1;33m\u001b[0m\u001b[0m\n\u001b[1;32m----> 5\u001b[1;33m \u001b[1;32mfrom\u001b[0m \u001b[1;33m.\u001b[0m\u001b[0mconfig\u001b[0m \u001b[1;32mimport\u001b[0m \u001b[0mregistry\u001b[0m\u001b[1;33m\u001b[0m\u001b[1;33m\u001b[0m\u001b[0m\n\u001b[0m\u001b[0;32m      6\u001b[0m \u001b[1;33m\u001b[0m\u001b[0m\n\u001b[0;32m      7\u001b[0m \u001b[1;31m# fmt: off\u001b[0m\u001b[1;33m\u001b[0m\u001b[1;33m\u001b[0m\u001b[1;33m\u001b[0m\u001b[0m\n",
      "\u001b[1;32mc:\\users\\admin\\appdata\\local\\programs\\python\\python39\\lib\\site-packages\\thinc\\config.py\u001b[0m in \u001b[0;36m<module>\u001b[1;34m\u001b[0m\n\u001b[0;32m      3\u001b[0m \u001b[1;32mfrom\u001b[0m \u001b[0mconfection\u001b[0m \u001b[1;32mimport\u001b[0m \u001b[0mVARIABLE_RE\u001b[0m\u001b[1;33m,\u001b[0m \u001b[0mConfig\u001b[0m\u001b[1;33m,\u001b[0m \u001b[0mConfigValidationError\u001b[0m\u001b[1;33m,\u001b[0m \u001b[0mPromise\u001b[0m\u001b[1;33m\u001b[0m\u001b[1;33m\u001b[0m\u001b[0m\n\u001b[0;32m      4\u001b[0m \u001b[1;33m\u001b[0m\u001b[0m\n\u001b[1;32m----> 5\u001b[1;33m \u001b[1;32mfrom\u001b[0m \u001b[1;33m.\u001b[0m\u001b[0mtypes\u001b[0m \u001b[1;32mimport\u001b[0m \u001b[0mDecorator\u001b[0m\u001b[1;33m\u001b[0m\u001b[1;33m\u001b[0m\u001b[0m\n\u001b[0m\u001b[0;32m      6\u001b[0m \u001b[1;33m\u001b[0m\u001b[0m\n\u001b[0;32m      7\u001b[0m \u001b[1;33m\u001b[0m\u001b[0m\n",
      "\u001b[1;32mc:\\users\\admin\\appdata\\local\\programs\\python\\python39\\lib\\site-packages\\thinc\\types.py\u001b[0m in \u001b[0;36m<module>\u001b[1;34m\u001b[0m\n\u001b[0;32m     23\u001b[0m \u001b[1;32mimport\u001b[0m \u001b[0mnumpy\u001b[0m\u001b[1;33m\u001b[0m\u001b[1;33m\u001b[0m\u001b[0m\n\u001b[0;32m     24\u001b[0m \u001b[1;33m\u001b[0m\u001b[0m\n\u001b[1;32m---> 25\u001b[1;33m \u001b[1;32mfrom\u001b[0m \u001b[1;33m.\u001b[0m\u001b[0mcompat\u001b[0m \u001b[1;32mimport\u001b[0m \u001b[0mcupy\u001b[0m\u001b[1;33m,\u001b[0m \u001b[0mhas_cupy\u001b[0m\u001b[1;33m\u001b[0m\u001b[1;33m\u001b[0m\u001b[0m\n\u001b[0m\u001b[0;32m     26\u001b[0m \u001b[1;33m\u001b[0m\u001b[0m\n\u001b[0;32m     27\u001b[0m \u001b[1;32mif\u001b[0m \u001b[0mhas_cupy\u001b[0m\u001b[1;33m:\u001b[0m\u001b[1;33m\u001b[0m\u001b[1;33m\u001b[0m\u001b[0m\n",
      "\u001b[1;32mc:\\users\\admin\\appdata\\local\\programs\\python\\python39\\lib\\site-packages\\thinc\\compat.py\u001b[0m in \u001b[0;36m<module>\u001b[1;34m\u001b[0m\n\u001b[0;32m     33\u001b[0m \u001b[1;33m\u001b[0m\u001b[0m\n\u001b[0;32m     34\u001b[0m \u001b[1;32mtry\u001b[0m\u001b[1;33m:\u001b[0m  \u001b[1;31m# pragma: no cover\u001b[0m\u001b[1;33m\u001b[0m\u001b[1;33m\u001b[0m\u001b[0m\n\u001b[1;32m---> 35\u001b[1;33m     \u001b[1;32mimport\u001b[0m \u001b[0mtorch\u001b[0m\u001b[1;33m\u001b[0m\u001b[1;33m\u001b[0m\u001b[0m\n\u001b[0m\u001b[0;32m     36\u001b[0m     \u001b[1;32mimport\u001b[0m \u001b[0mtorch\u001b[0m\u001b[1;33m.\u001b[0m\u001b[0mutils\u001b[0m\u001b[1;33m.\u001b[0m\u001b[0mdlpack\u001b[0m\u001b[1;33m\u001b[0m\u001b[1;33m\u001b[0m\u001b[0m\n\u001b[0;32m     37\u001b[0m \u001b[1;33m\u001b[0m\u001b[0m\n",
      "\u001b[1;32mc:\\users\\admin\\appdata\\local\\programs\\python\\python39\\lib\\site-packages\\torch\\__init__.py\u001b[0m in \u001b[0;36m<module>\u001b[1;34m\u001b[0m\n\u001b[0;32m    115\u001b[0m         \u001b[0mis_loaded\u001b[0m \u001b[1;33m=\u001b[0m \u001b[1;32mFalse\u001b[0m\u001b[1;33m\u001b[0m\u001b[1;33m\u001b[0m\u001b[0m\n\u001b[0;32m    116\u001b[0m         \u001b[1;32mif\u001b[0m \u001b[0mwith_load_library_flags\u001b[0m\u001b[1;33m:\u001b[0m\u001b[1;33m\u001b[0m\u001b[1;33m\u001b[0m\u001b[0m\n\u001b[1;32m--> 117\u001b[1;33m             \u001b[0mres\u001b[0m \u001b[1;33m=\u001b[0m \u001b[0mkernel32\u001b[0m\u001b[1;33m.\u001b[0m\u001b[0mLoadLibraryExW\u001b[0m\u001b[1;33m(\u001b[0m\u001b[0mdll\u001b[0m\u001b[1;33m,\u001b[0m \u001b[1;32mNone\u001b[0m\u001b[1;33m,\u001b[0m \u001b[1;36m0x00001100\u001b[0m\u001b[1;33m)\u001b[0m\u001b[1;33m\u001b[0m\u001b[1;33m\u001b[0m\u001b[0m\n\u001b[0m\u001b[0;32m    118\u001b[0m             \u001b[0mlast_error\u001b[0m \u001b[1;33m=\u001b[0m \u001b[0mctypes\u001b[0m\u001b[1;33m.\u001b[0m\u001b[0mget_last_error\u001b[0m\u001b[1;33m(\u001b[0m\u001b[1;33m)\u001b[0m\u001b[1;33m\u001b[0m\u001b[1;33m\u001b[0m\u001b[0m\n\u001b[0;32m    119\u001b[0m             \u001b[1;32mif\u001b[0m \u001b[0mres\u001b[0m \u001b[1;32mis\u001b[0m \u001b[1;32mNone\u001b[0m \u001b[1;32mand\u001b[0m \u001b[0mlast_error\u001b[0m \u001b[1;33m!=\u001b[0m \u001b[1;36m126\u001b[0m\u001b[1;33m:\u001b[0m\u001b[1;33m\u001b[0m\u001b[1;33m\u001b[0m\u001b[0m\n",
      "\u001b[1;31mKeyboardInterrupt\u001b[0m: "
     ]
    }
   ],
   "source": [
    "import pandas as pd\n",
    "import numpy as np\n",
    "\n",
    "import nltk\n",
    "import spacy\n",
    "from nltk.stem import PorterStemmer\n",
    "from nltk.tokenize import word_tokenize, sent_tokenize\n",
    "\n",
    "# Download NLTK resources if not already downloaded\n",
    "nltk.download('punkt')\n",
    "\n",
    "# Initialize the stemmer\n",
    "stemmer = PorterStemmer()"
   ]
  },
  {
   "cell_type": "code",
   "execution_count": 3,
   "metadata": {
    "colab": {
     "base_uri": "https://localhost:8080/"
    },
    "id": "c69a0lAZoa1K",
    "outputId": "84914b26-3fbe-48ec-c7bd-3cc94954146f"
   },
   "outputs": [
    {
     "name": "stdout",
     "output_type": "stream",
     "text": [
      "Mounted at /content/drive\n"
     ]
    }
   ],
   "source": [
    "#Mount google drive to be able to get the data set from there\n",
    "from google.colab import drive\n",
    "drive.mount('/content/drive')"
   ]
  },
  {
   "cell_type": "code",
   "execution_count": 5,
   "metadata": {
    "id": "8-z1qsMTooFY"
   },
   "outputs": [],
   "source": [
    "#Import the data set and copy it to a data frame\n",
    "data = pd.read_csv(\"/content/drive/MyDrive/Unstructured Data Analytics/90minFootballTransferNewsNLP.csv\")\n",
    "\n",
    "df = data.copy()"
   ]
  },
  {
   "cell_type": "code",
   "execution_count": 6,
   "metadata": {
    "colab": {
     "base_uri": "https://localhost:8080/",
     "height": 293
    },
    "id": "F-0ksz1RLATS",
    "outputId": "4aee98a6-74b1-4074-f48f-4fded3f49585"
   },
   "outputs": [
    {
     "data": {
      "text/html": [
       "\n",
       "  <div id=\"df-6bda51ca-c41f-4eab-98d6-2a5da6ef925c\" class=\"colab-df-container\">\n",
       "    <div>\n",
       "<style scoped>\n",
       "    .dataframe tbody tr th:only-of-type {\n",
       "        vertical-align: middle;\n",
       "    }\n",
       "\n",
       "    .dataframe tbody tr th {\n",
       "        vertical-align: top;\n",
       "    }\n",
       "\n",
       "    .dataframe thead th {\n",
       "        text-align: right;\n",
       "    }\n",
       "</style>\n",
       "<table border=\"1\" class=\"dataframe\">\n",
       "  <thead>\n",
       "    <tr style=\"text-align: right;\">\n",
       "      <th></th>\n",
       "      <th>Title</th>\n",
       "      <th>Date</th>\n",
       "      <th>Link</th>\n",
       "      <th>Content</th>\n",
       "    </tr>\n",
       "  </thead>\n",
       "  <tbody>\n",
       "    <tr>\n",
       "      <th>0</th>\n",
       "      <td>Football transfer rumours: Why Maguire's Man U...</td>\n",
       "      <td>Aug 15, 2023</td>\n",
       "      <td>https://www.90min.com/posts/football-transfer-...</td>\n",
       "      <td>90minÂ rounds up the latestÂ transfer news, ru...</td>\n",
       "    </tr>\n",
       "    <tr>\n",
       "      <th>1</th>\n",
       "      <td>Chelsea agree Romeo Lavia fee with Southampton</td>\n",
       "      <td>Aug 15, 2023</td>\n",
       "      <td>https://www.90min.com/posts/chelsea-agree-rome...</td>\n",
       "      <td>Chelsea have finalised an agreement with South...</td>\n",
       "    </tr>\n",
       "    <tr>\n",
       "      <th>2</th>\n",
       "      <td>Harry Maguire's proposed West Ham transfer col...</td>\n",
       "      <td>Aug 15, 2023</td>\n",
       "      <td>https://www.90min.com/posts/harry-maguire-prop...</td>\n",
       "      <td>Harry Maguire's proposed transfer to West Ham ...</td>\n",
       "    </tr>\n",
       "    <tr>\n",
       "      <th>3</th>\n",
       "      <td>Southampton director breaks down Chelsea &amp; Liv...</td>\n",
       "      <td>Aug 15, 2023</td>\n",
       "      <td>https://www.90min.com/posts/southampton-direct...</td>\n",
       "      <td>Southampton director Jason Wilcox has revealed...</td>\n",
       "    </tr>\n",
       "    <tr>\n",
       "      <th>4</th>\n",
       "      <td>Neymar completes move from PSG to Al Hilal</td>\n",
       "      <td>Aug 15, 2023</td>\n",
       "      <td>https://www.90min.com/posts/neymar-completes-m...</td>\n",
       "      <td>Saudi Pro League side Al Hilal have confirmed ...</td>\n",
       "    </tr>\n",
       "  </tbody>\n",
       "</table>\n",
       "</div>\n",
       "    <div class=\"colab-df-buttons\">\n",
       "\n",
       "  <div class=\"colab-df-container\">\n",
       "    <button class=\"colab-df-convert\" onclick=\"convertToInteractive('df-6bda51ca-c41f-4eab-98d6-2a5da6ef925c')\"\n",
       "            title=\"Convert this dataframe to an interactive table.\"\n",
       "            style=\"display:none;\">\n",
       "\n",
       "  <svg xmlns=\"http://www.w3.org/2000/svg\" height=\"24px\" viewBox=\"0 -960 960 960\">\n",
       "    <path d=\"M120-120v-720h720v720H120Zm60-500h600v-160H180v160Zm220 220h160v-160H400v160Zm0 220h160v-160H400v160ZM180-400h160v-160H180v160Zm440 0h160v-160H620v160ZM180-180h160v-160H180v160Zm440 0h160v-160H620v160Z\"/>\n",
       "  </svg>\n",
       "    </button>\n",
       "\n",
       "  <style>\n",
       "    .colab-df-container {\n",
       "      display:flex;\n",
       "      gap: 12px;\n",
       "    }\n",
       "\n",
       "    .colab-df-convert {\n",
       "      background-color: #E8F0FE;\n",
       "      border: none;\n",
       "      border-radius: 50%;\n",
       "      cursor: pointer;\n",
       "      display: none;\n",
       "      fill: #1967D2;\n",
       "      height: 32px;\n",
       "      padding: 0 0 0 0;\n",
       "      width: 32px;\n",
       "    }\n",
       "\n",
       "    .colab-df-convert:hover {\n",
       "      background-color: #E2EBFA;\n",
       "      box-shadow: 0px 1px 2px rgba(60, 64, 67, 0.3), 0px 1px 3px 1px rgba(60, 64, 67, 0.15);\n",
       "      fill: #174EA6;\n",
       "    }\n",
       "\n",
       "    .colab-df-buttons div {\n",
       "      margin-bottom: 4px;\n",
       "    }\n",
       "\n",
       "    [theme=dark] .colab-df-convert {\n",
       "      background-color: #3B4455;\n",
       "      fill: #D2E3FC;\n",
       "    }\n",
       "\n",
       "    [theme=dark] .colab-df-convert:hover {\n",
       "      background-color: #434B5C;\n",
       "      box-shadow: 0px 1px 3px 1px rgba(0, 0, 0, 0.15);\n",
       "      filter: drop-shadow(0px 1px 2px rgba(0, 0, 0, 0.3));\n",
       "      fill: #FFFFFF;\n",
       "    }\n",
       "  </style>\n",
       "\n",
       "    <script>\n",
       "      const buttonEl =\n",
       "        document.querySelector('#df-6bda51ca-c41f-4eab-98d6-2a5da6ef925c button.colab-df-convert');\n",
       "      buttonEl.style.display =\n",
       "        google.colab.kernel.accessAllowed ? 'block' : 'none';\n",
       "\n",
       "      async function convertToInteractive(key) {\n",
       "        const element = document.querySelector('#df-6bda51ca-c41f-4eab-98d6-2a5da6ef925c');\n",
       "        const dataTable =\n",
       "          await google.colab.kernel.invokeFunction('convertToInteractive',\n",
       "                                                    [key], {});\n",
       "        if (!dataTable) return;\n",
       "\n",
       "        const docLinkHtml = 'Like what you see? Visit the ' +\n",
       "          '<a target=\"_blank\" href=https://colab.research.google.com/notebooks/data_table.ipynb>data table notebook</a>'\n",
       "          + ' to learn more about interactive tables.';\n",
       "        element.innerHTML = '';\n",
       "        dataTable['output_type'] = 'display_data';\n",
       "        await google.colab.output.renderOutput(dataTable, element);\n",
       "        const docLink = document.createElement('div');\n",
       "        docLink.innerHTML = docLinkHtml;\n",
       "        element.appendChild(docLink);\n",
       "      }\n",
       "    </script>\n",
       "  </div>\n",
       "\n",
       "\n",
       "<div id=\"df-59593617-722e-4803-af9e-954e131d28da\">\n",
       "  <button class=\"colab-df-quickchart\" onclick=\"quickchart('df-59593617-722e-4803-af9e-954e131d28da')\"\n",
       "            title=\"Suggest charts\"\n",
       "            style=\"display:none;\">\n",
       "\n",
       "<svg xmlns=\"http://www.w3.org/2000/svg\" height=\"24px\"viewBox=\"0 0 24 24\"\n",
       "     width=\"24px\">\n",
       "    <g>\n",
       "        <path d=\"M19 3H5c-1.1 0-2 .9-2 2v14c0 1.1.9 2 2 2h14c1.1 0 2-.9 2-2V5c0-1.1-.9-2-2-2zM9 17H7v-7h2v7zm4 0h-2V7h2v10zm4 0h-2v-4h2v4z\"/>\n",
       "    </g>\n",
       "</svg>\n",
       "  </button>\n",
       "\n",
       "<style>\n",
       "  .colab-df-quickchart {\n",
       "      --bg-color: #E8F0FE;\n",
       "      --fill-color: #1967D2;\n",
       "      --hover-bg-color: #E2EBFA;\n",
       "      --hover-fill-color: #174EA6;\n",
       "      --disabled-fill-color: #AAA;\n",
       "      --disabled-bg-color: #DDD;\n",
       "  }\n",
       "\n",
       "  [theme=dark] .colab-df-quickchart {\n",
       "      --bg-color: #3B4455;\n",
       "      --fill-color: #D2E3FC;\n",
       "      --hover-bg-color: #434B5C;\n",
       "      --hover-fill-color: #FFFFFF;\n",
       "      --disabled-bg-color: #3B4455;\n",
       "      --disabled-fill-color: #666;\n",
       "  }\n",
       "\n",
       "  .colab-df-quickchart {\n",
       "    background-color: var(--bg-color);\n",
       "    border: none;\n",
       "    border-radius: 50%;\n",
       "    cursor: pointer;\n",
       "    display: none;\n",
       "    fill: var(--fill-color);\n",
       "    height: 32px;\n",
       "    padding: 0;\n",
       "    width: 32px;\n",
       "  }\n",
       "\n",
       "  .colab-df-quickchart:hover {\n",
       "    background-color: var(--hover-bg-color);\n",
       "    box-shadow: 0 1px 2px rgba(60, 64, 67, 0.3), 0 1px 3px 1px rgba(60, 64, 67, 0.15);\n",
       "    fill: var(--button-hover-fill-color);\n",
       "  }\n",
       "\n",
       "  .colab-df-quickchart-complete:disabled,\n",
       "  .colab-df-quickchart-complete:disabled:hover {\n",
       "    background-color: var(--disabled-bg-color);\n",
       "    fill: var(--disabled-fill-color);\n",
       "    box-shadow: none;\n",
       "  }\n",
       "\n",
       "  .colab-df-spinner {\n",
       "    border: 2px solid var(--fill-color);\n",
       "    border-color: transparent;\n",
       "    border-bottom-color: var(--fill-color);\n",
       "    animation:\n",
       "      spin 1s steps(1) infinite;\n",
       "  }\n",
       "\n",
       "  @keyframes spin {\n",
       "    0% {\n",
       "      border-color: transparent;\n",
       "      border-bottom-color: var(--fill-color);\n",
       "      border-left-color: var(--fill-color);\n",
       "    }\n",
       "    20% {\n",
       "      border-color: transparent;\n",
       "      border-left-color: var(--fill-color);\n",
       "      border-top-color: var(--fill-color);\n",
       "    }\n",
       "    30% {\n",
       "      border-color: transparent;\n",
       "      border-left-color: var(--fill-color);\n",
       "      border-top-color: var(--fill-color);\n",
       "      border-right-color: var(--fill-color);\n",
       "    }\n",
       "    40% {\n",
       "      border-color: transparent;\n",
       "      border-right-color: var(--fill-color);\n",
       "      border-top-color: var(--fill-color);\n",
       "    }\n",
       "    60% {\n",
       "      border-color: transparent;\n",
       "      border-right-color: var(--fill-color);\n",
       "    }\n",
       "    80% {\n",
       "      border-color: transparent;\n",
       "      border-right-color: var(--fill-color);\n",
       "      border-bottom-color: var(--fill-color);\n",
       "    }\n",
       "    90% {\n",
       "      border-color: transparent;\n",
       "      border-bottom-color: var(--fill-color);\n",
       "    }\n",
       "  }\n",
       "</style>\n",
       "\n",
       "  <script>\n",
       "    async function quickchart(key) {\n",
       "      const quickchartButtonEl =\n",
       "        document.querySelector('#' + key + ' button');\n",
       "      quickchartButtonEl.disabled = true;  // To prevent multiple clicks.\n",
       "      quickchartButtonEl.classList.add('colab-df-spinner');\n",
       "      try {\n",
       "        const charts = await google.colab.kernel.invokeFunction(\n",
       "            'suggestCharts', [key], {});\n",
       "      } catch (error) {\n",
       "        console.error('Error during call to suggestCharts:', error);\n",
       "      }\n",
       "      quickchartButtonEl.classList.remove('colab-df-spinner');\n",
       "      quickchartButtonEl.classList.add('colab-df-quickchart-complete');\n",
       "    }\n",
       "    (() => {\n",
       "      let quickchartButtonEl =\n",
       "        document.querySelector('#df-59593617-722e-4803-af9e-954e131d28da button');\n",
       "      quickchartButtonEl.style.display =\n",
       "        google.colab.kernel.accessAllowed ? 'block' : 'none';\n",
       "    })();\n",
       "  </script>\n",
       "</div>\n",
       "\n",
       "    </div>\n",
       "  </div>\n"
      ],
      "text/plain": [
       "                                               Title          Date  \\\n",
       "0  Football transfer rumours: Why Maguire's Man U...  Aug 15, 2023   \n",
       "1     Chelsea agree Romeo Lavia fee with Southampton  Aug 15, 2023   \n",
       "2  Harry Maguire's proposed West Ham transfer col...  Aug 15, 2023   \n",
       "3  Southampton director breaks down Chelsea & Liv...  Aug 15, 2023   \n",
       "4         Neymar completes move from PSG to Al Hilal  Aug 15, 2023   \n",
       "\n",
       "                                                Link  \\\n",
       "0  https://www.90min.com/posts/football-transfer-...   \n",
       "1  https://www.90min.com/posts/chelsea-agree-rome...   \n",
       "2  https://www.90min.com/posts/harry-maguire-prop...   \n",
       "3  https://www.90min.com/posts/southampton-direct...   \n",
       "4  https://www.90min.com/posts/neymar-completes-m...   \n",
       "\n",
       "                                             Content  \n",
       "0  90minÂ rounds up the latestÂ transfer news, ru...  \n",
       "1  Chelsea have finalised an agreement with South...  \n",
       "2  Harry Maguire's proposed transfer to West Ham ...  \n",
       "3  Southampton director Jason Wilcox has revealed...  \n",
       "4  Saudi Pro League side Al Hilal have confirmed ...  "
      ]
     },
     "execution_count": 6,
     "metadata": {},
     "output_type": "execute_result"
    }
   ],
   "source": [
    "df.head() #Get a feel of the data"
   ]
  },
  {
   "cell_type": "code",
   "execution_count": 7,
   "metadata": {
    "colab": {
     "base_uri": "https://localhost:8080/"
    },
    "id": "00Jo8ciTLSDQ",
    "outputId": "caa0f275-c8cc-47eb-9577-a6dcb6b5615d"
   },
   "outputs": [
    {
     "name": "stdout",
     "output_type": "stream",
     "text": [
      "<class 'pandas.core.frame.DataFrame'>\n",
      "RangeIndex: 6726 entries, 0 to 6725\n",
      "Data columns (total 4 columns):\n",
      " #   Column   Non-Null Count  Dtype \n",
      "---  ------   --------------  ----- \n",
      " 0   Title    6726 non-null   object\n",
      " 1   Date     6726 non-null   object\n",
      " 2   Link     6726 non-null   object\n",
      " 3   Content  6726 non-null   object\n",
      "dtypes: object(4)\n",
      "memory usage: 210.3+ KB\n"
     ]
    }
   ],
   "source": [
    "df.info()"
   ]
  },
  {
   "cell_type": "markdown",
   "metadata": {
    "id": "6HKR-RunMiln"
   },
   "source": [
    "### Some Cleaning of the data first"
   ]
  },
  {
   "cell_type": "code",
   "execution_count": 8,
   "metadata": {
    "id": "0wixz3xmq85I"
   },
   "outputs": [],
   "source": [
    "#Convert date to date time\n",
    "df['Date'] = pd.to_datetime(df['Date'])\n",
    "#Only get for the last month of the transfer window\n",
    "df = df[(df['Date'].dt.month == 8) & (df['Date'].dt.year == 2023)]"
   ]
  },
  {
   "cell_type": "code",
   "execution_count": 9,
   "metadata": {
    "colab": {
     "base_uri": "https://localhost:8080/"
    },
    "id": "U-W0gGN3rCa7",
    "outputId": "00e11f0d-4fda-4c8f-a124-317896a1a3b3"
   },
   "outputs": [
    {
     "name": "stderr",
     "output_type": "stream",
     "text": [
      "<ipython-input-9-bf0b1f3cf572>:1: SettingWithCopyWarning: \n",
      "A value is trying to be set on a copy of a slice from a DataFrame\n",
      "\n",
      "See the caveats in the documentation: https://pandas.pydata.org/pandas-docs/stable/user_guide/indexing.html#returning-a-view-versus-a-copy\n",
      "  df.drop([\"Link\",\"Date\"], inplace=True, axis=1)\n"
     ]
    }
   ],
   "source": [
    "df.drop([\"Link\",\"Date\"], inplace=True, axis=1) #Drop columns which will not be used"
   ]
  },
  {
   "cell_type": "code",
   "execution_count": 10,
   "metadata": {
    "colab": {
     "base_uri": "https://localhost:8080/"
    },
    "id": "2W8j4I_9sWvN",
    "outputId": "efa7253f-780b-4e68-f7bc-644e81901209"
   },
   "outputs": [
    {
     "name": "stdout",
     "output_type": "stream",
     "text": [
      "<class 'pandas.core.frame.DataFrame'>\n",
      "Int64Index: 180 entries, 0 to 1447\n",
      "Data columns (total 2 columns):\n",
      " #   Column   Non-Null Count  Dtype \n",
      "---  ------   --------------  ----- \n",
      " 0   Title    180 non-null    object\n",
      " 1   Content  180 non-null    object\n",
      "dtypes: object(2)\n",
      "memory usage: 4.2+ KB\n"
     ]
    }
   ],
   "source": [
    "df.info()"
   ]
  },
  {
   "cell_type": "code",
   "execution_count": 11,
   "metadata": {
    "colab": {
     "base_uri": "https://localhost:8080/",
     "height": 206
    },
    "id": "MNiaaK9kdl0N",
    "outputId": "7e166f1b-0bce-4e2c-dba0-25bf0b0e9f7b"
   },
   "outputs": [
    {
     "data": {
      "text/html": [
       "\n",
       "  <div id=\"df-c36f8884-d901-4291-a9c7-83ba7df57727\" class=\"colab-df-container\">\n",
       "    <div>\n",
       "<style scoped>\n",
       "    .dataframe tbody tr th:only-of-type {\n",
       "        vertical-align: middle;\n",
       "    }\n",
       "\n",
       "    .dataframe tbody tr th {\n",
       "        vertical-align: top;\n",
       "    }\n",
       "\n",
       "    .dataframe thead th {\n",
       "        text-align: right;\n",
       "    }\n",
       "</style>\n",
       "<table border=\"1\" class=\"dataframe\">\n",
       "  <thead>\n",
       "    <tr style=\"text-align: right;\">\n",
       "      <th></th>\n",
       "      <th>Title</th>\n",
       "      <th>Content</th>\n",
       "    </tr>\n",
       "  </thead>\n",
       "  <tbody>\n",
       "    <tr>\n",
       "      <th>0</th>\n",
       "      <td>Football transfer rumours: Why Maguire's Man U...</td>\n",
       "      <td>90minÂ rounds up the latestÂ transfer news, ru...</td>\n",
       "    </tr>\n",
       "    <tr>\n",
       "      <th>1</th>\n",
       "      <td>Chelsea agree Romeo Lavia fee with Southampton</td>\n",
       "      <td>Chelsea have finalised an agreement with South...</td>\n",
       "    </tr>\n",
       "    <tr>\n",
       "      <th>2</th>\n",
       "      <td>Harry Maguire's proposed West Ham transfer col...</td>\n",
       "      <td>Harry Maguire's proposed transfer to West Ham ...</td>\n",
       "    </tr>\n",
       "    <tr>\n",
       "      <th>3</th>\n",
       "      <td>Southampton director breaks down Chelsea &amp; Liv...</td>\n",
       "      <td>Southampton director Jason Wilcox has revealed...</td>\n",
       "    </tr>\n",
       "    <tr>\n",
       "      <th>4</th>\n",
       "      <td>Neymar completes move from PSG to Al Hilal</td>\n",
       "      <td>Saudi Pro League side Al Hilal have confirmed ...</td>\n",
       "    </tr>\n",
       "  </tbody>\n",
       "</table>\n",
       "</div>\n",
       "    <div class=\"colab-df-buttons\">\n",
       "\n",
       "  <div class=\"colab-df-container\">\n",
       "    <button class=\"colab-df-convert\" onclick=\"convertToInteractive('df-c36f8884-d901-4291-a9c7-83ba7df57727')\"\n",
       "            title=\"Convert this dataframe to an interactive table.\"\n",
       "            style=\"display:none;\">\n",
       "\n",
       "  <svg xmlns=\"http://www.w3.org/2000/svg\" height=\"24px\" viewBox=\"0 -960 960 960\">\n",
       "    <path d=\"M120-120v-720h720v720H120Zm60-500h600v-160H180v160Zm220 220h160v-160H400v160Zm0 220h160v-160H400v160ZM180-400h160v-160H180v160Zm440 0h160v-160H620v160ZM180-180h160v-160H180v160Zm440 0h160v-160H620v160Z\"/>\n",
       "  </svg>\n",
       "    </button>\n",
       "\n",
       "  <style>\n",
       "    .colab-df-container {\n",
       "      display:flex;\n",
       "      gap: 12px;\n",
       "    }\n",
       "\n",
       "    .colab-df-convert {\n",
       "      background-color: #E8F0FE;\n",
       "      border: none;\n",
       "      border-radius: 50%;\n",
       "      cursor: pointer;\n",
       "      display: none;\n",
       "      fill: #1967D2;\n",
       "      height: 32px;\n",
       "      padding: 0 0 0 0;\n",
       "      width: 32px;\n",
       "    }\n",
       "\n",
       "    .colab-df-convert:hover {\n",
       "      background-color: #E2EBFA;\n",
       "      box-shadow: 0px 1px 2px rgba(60, 64, 67, 0.3), 0px 1px 3px 1px rgba(60, 64, 67, 0.15);\n",
       "      fill: #174EA6;\n",
       "    }\n",
       "\n",
       "    .colab-df-buttons div {\n",
       "      margin-bottom: 4px;\n",
       "    }\n",
       "\n",
       "    [theme=dark] .colab-df-convert {\n",
       "      background-color: #3B4455;\n",
       "      fill: #D2E3FC;\n",
       "    }\n",
       "\n",
       "    [theme=dark] .colab-df-convert:hover {\n",
       "      background-color: #434B5C;\n",
       "      box-shadow: 0px 1px 3px 1px rgba(0, 0, 0, 0.15);\n",
       "      filter: drop-shadow(0px 1px 2px rgba(0, 0, 0, 0.3));\n",
       "      fill: #FFFFFF;\n",
       "    }\n",
       "  </style>\n",
       "\n",
       "    <script>\n",
       "      const buttonEl =\n",
       "        document.querySelector('#df-c36f8884-d901-4291-a9c7-83ba7df57727 button.colab-df-convert');\n",
       "      buttonEl.style.display =\n",
       "        google.colab.kernel.accessAllowed ? 'block' : 'none';\n",
       "\n",
       "      async function convertToInteractive(key) {\n",
       "        const element = document.querySelector('#df-c36f8884-d901-4291-a9c7-83ba7df57727');\n",
       "        const dataTable =\n",
       "          await google.colab.kernel.invokeFunction('convertToInteractive',\n",
       "                                                    [key], {});\n",
       "        if (!dataTable) return;\n",
       "\n",
       "        const docLinkHtml = 'Like what you see? Visit the ' +\n",
       "          '<a target=\"_blank\" href=https://colab.research.google.com/notebooks/data_table.ipynb>data table notebook</a>'\n",
       "          + ' to learn more about interactive tables.';\n",
       "        element.innerHTML = '';\n",
       "        dataTable['output_type'] = 'display_data';\n",
       "        await google.colab.output.renderOutput(dataTable, element);\n",
       "        const docLink = document.createElement('div');\n",
       "        docLink.innerHTML = docLinkHtml;\n",
       "        element.appendChild(docLink);\n",
       "      }\n",
       "    </script>\n",
       "  </div>\n",
       "\n",
       "\n",
       "<div id=\"df-a45c4000-70e9-4ee8-b627-d5a849ef78e7\">\n",
       "  <button class=\"colab-df-quickchart\" onclick=\"quickchart('df-a45c4000-70e9-4ee8-b627-d5a849ef78e7')\"\n",
       "            title=\"Suggest charts\"\n",
       "            style=\"display:none;\">\n",
       "\n",
       "<svg xmlns=\"http://www.w3.org/2000/svg\" height=\"24px\"viewBox=\"0 0 24 24\"\n",
       "     width=\"24px\">\n",
       "    <g>\n",
       "        <path d=\"M19 3H5c-1.1 0-2 .9-2 2v14c0 1.1.9 2 2 2h14c1.1 0 2-.9 2-2V5c0-1.1-.9-2-2-2zM9 17H7v-7h2v7zm4 0h-2V7h2v10zm4 0h-2v-4h2v4z\"/>\n",
       "    </g>\n",
       "</svg>\n",
       "  </button>\n",
       "\n",
       "<style>\n",
       "  .colab-df-quickchart {\n",
       "      --bg-color: #E8F0FE;\n",
       "      --fill-color: #1967D2;\n",
       "      --hover-bg-color: #E2EBFA;\n",
       "      --hover-fill-color: #174EA6;\n",
       "      --disabled-fill-color: #AAA;\n",
       "      --disabled-bg-color: #DDD;\n",
       "  }\n",
       "\n",
       "  [theme=dark] .colab-df-quickchart {\n",
       "      --bg-color: #3B4455;\n",
       "      --fill-color: #D2E3FC;\n",
       "      --hover-bg-color: #434B5C;\n",
       "      --hover-fill-color: #FFFFFF;\n",
       "      --disabled-bg-color: #3B4455;\n",
       "      --disabled-fill-color: #666;\n",
       "  }\n",
       "\n",
       "  .colab-df-quickchart {\n",
       "    background-color: var(--bg-color);\n",
       "    border: none;\n",
       "    border-radius: 50%;\n",
       "    cursor: pointer;\n",
       "    display: none;\n",
       "    fill: var(--fill-color);\n",
       "    height: 32px;\n",
       "    padding: 0;\n",
       "    width: 32px;\n",
       "  }\n",
       "\n",
       "  .colab-df-quickchart:hover {\n",
       "    background-color: var(--hover-bg-color);\n",
       "    box-shadow: 0 1px 2px rgba(60, 64, 67, 0.3), 0 1px 3px 1px rgba(60, 64, 67, 0.15);\n",
       "    fill: var(--button-hover-fill-color);\n",
       "  }\n",
       "\n",
       "  .colab-df-quickchart-complete:disabled,\n",
       "  .colab-df-quickchart-complete:disabled:hover {\n",
       "    background-color: var(--disabled-bg-color);\n",
       "    fill: var(--disabled-fill-color);\n",
       "    box-shadow: none;\n",
       "  }\n",
       "\n",
       "  .colab-df-spinner {\n",
       "    border: 2px solid var(--fill-color);\n",
       "    border-color: transparent;\n",
       "    border-bottom-color: var(--fill-color);\n",
       "    animation:\n",
       "      spin 1s steps(1) infinite;\n",
       "  }\n",
       "\n",
       "  @keyframes spin {\n",
       "    0% {\n",
       "      border-color: transparent;\n",
       "      border-bottom-color: var(--fill-color);\n",
       "      border-left-color: var(--fill-color);\n",
       "    }\n",
       "    20% {\n",
       "      border-color: transparent;\n",
       "      border-left-color: var(--fill-color);\n",
       "      border-top-color: var(--fill-color);\n",
       "    }\n",
       "    30% {\n",
       "      border-color: transparent;\n",
       "      border-left-color: var(--fill-color);\n",
       "      border-top-color: var(--fill-color);\n",
       "      border-right-color: var(--fill-color);\n",
       "    }\n",
       "    40% {\n",
       "      border-color: transparent;\n",
       "      border-right-color: var(--fill-color);\n",
       "      border-top-color: var(--fill-color);\n",
       "    }\n",
       "    60% {\n",
       "      border-color: transparent;\n",
       "      border-right-color: var(--fill-color);\n",
       "    }\n",
       "    80% {\n",
       "      border-color: transparent;\n",
       "      border-right-color: var(--fill-color);\n",
       "      border-bottom-color: var(--fill-color);\n",
       "    }\n",
       "    90% {\n",
       "      border-color: transparent;\n",
       "      border-bottom-color: var(--fill-color);\n",
       "    }\n",
       "  }\n",
       "</style>\n",
       "\n",
       "  <script>\n",
       "    async function quickchart(key) {\n",
       "      const quickchartButtonEl =\n",
       "        document.querySelector('#' + key + ' button');\n",
       "      quickchartButtonEl.disabled = true;  // To prevent multiple clicks.\n",
       "      quickchartButtonEl.classList.add('colab-df-spinner');\n",
       "      try {\n",
       "        const charts = await google.colab.kernel.invokeFunction(\n",
       "            'suggestCharts', [key], {});\n",
       "      } catch (error) {\n",
       "        console.error('Error during call to suggestCharts:', error);\n",
       "      }\n",
       "      quickchartButtonEl.classList.remove('colab-df-spinner');\n",
       "      quickchartButtonEl.classList.add('colab-df-quickchart-complete');\n",
       "    }\n",
       "    (() => {\n",
       "      let quickchartButtonEl =\n",
       "        document.querySelector('#df-a45c4000-70e9-4ee8-b627-d5a849ef78e7 button');\n",
       "      quickchartButtonEl.style.display =\n",
       "        google.colab.kernel.accessAllowed ? 'block' : 'none';\n",
       "    })();\n",
       "  </script>\n",
       "</div>\n",
       "\n",
       "    </div>\n",
       "  </div>\n"
      ],
      "text/plain": [
       "                                               Title  \\\n",
       "0  Football transfer rumours: Why Maguire's Man U...   \n",
       "1     Chelsea agree Romeo Lavia fee with Southampton   \n",
       "2  Harry Maguire's proposed West Ham transfer col...   \n",
       "3  Southampton director breaks down Chelsea & Liv...   \n",
       "4         Neymar completes move from PSG to Al Hilal   \n",
       "\n",
       "                                             Content  \n",
       "0  90minÂ rounds up the latestÂ transfer news, ru...  \n",
       "1  Chelsea have finalised an agreement with South...  \n",
       "2  Harry Maguire's proposed transfer to West Ham ...  \n",
       "3  Southampton director Jason Wilcox has revealed...  \n",
       "4  Saudi Pro League side Al Hilal have confirmed ...  "
      ]
     },
     "execution_count": 11,
     "metadata": {},
     "output_type": "execute_result"
    }
   ],
   "source": [
    "df.head()"
   ]
  },
  {
   "cell_type": "markdown",
   "metadata": {},
   "source": [
    "From the above obeservation, after filtering we are down to 180 from 6726 rows and the data has only columns we are using"
   ]
  },
  {
   "cell_type": "markdown",
   "metadata": {
    "id": "Ldmj-wJX5re6"
   },
   "source": [
    "# Normalization"
   ]
  },
  {
   "cell_type": "markdown",
   "metadata": {
    "id": "VRftZfGwH93a"
   },
   "source": [
    "This is the process of transforming text into a standard or canonical form. This can involve several different steps like converting text to lowercase, removing punctuation, removing special characters, and converting numbers to their word representations. Normalization helps in reducing noise and ensuring consistency in text data, making it easier for further processing and analysis."
   ]
  },
  {
   "cell_type": "code",
   "execution_count": 12,
   "metadata": {
    "id": "aF9SPCS4J1fP"
   },
   "outputs": [],
   "source": [
    "\n",
    "def normalize_sentence(sentence):\n",
    "    # # Remove punctuation\n",
    "    # sentence = sentence.translate(str.maketrans('', '', string.punctuation))\n",
    "\n",
    "    # # Remove special characters and numbers\n",
    "    # sentence = re.sub(r'[^a-zA-Z\\s]', '', sentence)\n",
    "\n",
    "    # Replace special characters with their corresponding standard characters\n",
    "    #This is beacse of the obeservation made on the data\n",
    "    special_characters = {\"Â\": \"A\", \"Ê\": \"E\", \"Û\": \"U\", \"â\": \"a\", \"ê\": \"e\", \"û\": \"u\"}\n",
    "    for char, replacement in special_characters.items():\n",
    "        sentence = sentence.replace(char, replacement)\n",
    "\n",
    "    # Convert text to lowercase and remove extra whitespaces\n",
    "    sentence = ' '.join(sentence.lower().split())\n",
    "\n",
    "    return sentence\n",
    "\n",
    "def normalize_column(cell):\n",
    "    # Tokenize the cell into sentences\n",
    "    sentences = sent_tokenize(cell)\n",
    "\n",
    "    # Normalize each sentence in the cell\n",
    "    normalized_sentences = [normalize_sentence(sentence) for sentence in sentences]\n",
    "\n",
    "    # Join the normalized sentences back into a single cell\n",
    "    normalized_cell = ' '.join(normalized_sentences)\n",
    "\n",
    "    return normalized_cell"
   ]
  },
  {
   "cell_type": "code",
   "execution_count": 13,
   "metadata": {
    "id": "BT1OG-9mn_Ru"
   },
   "outputs": [],
   "source": [
    "df['normalized_Content'] = df['Content'].apply(normalize_column)"
   ]
  },
  {
   "cell_type": "code",
   "execution_count": 14,
   "metadata": {
    "colab": {
     "base_uri": "https://localhost:8080/"
    },
    "id": "IqbOljbEn_Rv",
    "outputId": "06acbd79-d22e-473f-a616-4064d6acadd9"
   },
   "outputs": [
    {
     "name": "stdout",
     "output_type": "stream",
     "text": [
      "90minÂ rounds up the latestÂ transfer news, rumours and gossip circulating around the world... West Ham have called off their move for Harry Maguire despite agreeing a Â£30m fee with Manchester United. The England defender wanted a severance payment of around Â£7m in order to depart Old Trafford and accept a lower wage packet at London Stadium. (Guardian) Manchester United would have needed to sign a replacement for Maguire had he chose to leave but they would have been left short of time to do so this window. (The Athletic) Despite reports suggesting otherwise, Everton have not received a bid from Manchester United for midfielder Amadou Onana, though would demand a huge transfer fee in order to sell the Belgian. (Liverpool Echo) Chelsea have agreed a Â£58m fee with Southampton for Romeo Lavia as Todd Boehly's spending during his time as owner nears the Â£1bn mark. (The Athletic) Manchester City will ramp up their interest in Jeremy Doku once they formalise a new bid for Lucas Paqueta. (Fabrizio Romano) manual Barcelona recently knocked back an approach from Manchester City for 16-year-old wonderkid Lamine Yamal. City had planned to loan him out to Barca's Catalan neighbours Girona. (Mundo Deportivo) Al Nassr are exploring a shock move for Liverpool goalkeeper Alisson, who is believed to be open to a move to Saudi Arabia. (Foot Mercato) In terms of incomings, Liverpool are believed to have a six-player shortlist to fill their hole in defensive midfield after losing out on Romeo Lavia and Moises Caicedo to Chelsea. Fulham's Joao Palhinha and Crystal Palace's Cheick Doucoure are towards the top of that list. (Daily Mail) Real Madrid are eyeing Arsenal centre-back Gabriel Magalhaes as a replacement for Eder Militao, who recently sustained an ACL injury. (PL Brasil) Tottenham plan to sell Eric Dier and bring in a new centre-back and star midfielder before the end of the transfer window. (Football Insider)\n",
      "\n",
      "90mina rounds up the latesta transfer news, rumours and gossip circulating around the world... west ham have called off their move for harry maguire despite agreeing a a£30m fee with manchester united. the england defender wanted a severance payment of around a£7m in order to depart old trafford and accept a lower wage packet at london stadium. (guardian) manchester united would have needed to sign a replacement for maguire had he chose to leave but they would have been left short of time to do so this window. (the athletic) despite reports suggesting otherwise, everton have not received a bid from manchester united for midfielder amadou onana, though would demand a huge transfer fee in order to sell the belgian. (liverpool echo) chelsea have agreed a a£58m fee with southampton for romeo lavia as todd boehly's spending during his time as owner nears the a£1bn mark. (the athletic) manchester city will ramp up their interest in jeremy doku once they formalise a new bid for lucas paqueta. (fabrizio romano) manual barcelona recently knocked back an approach from manchester city for 16-year-old wonderkid lamine yamal. city had planned to loan him out to barca's catalan neighbours girona. (mundo deportivo) al nassr are exploring a shock move for liverpool goalkeeper alisson, who is believed to be open to a move to saudi arabia. (foot mercato) in terms of incomings, liverpool are believed to have a six-player shortlist to fill their hole in defensive midfield after losing out on romeo lavia and moises caicedo to chelsea. fulham's joao palhinha and crystal palace's cheick doucoure are towards the top of that list. (daily mail) real madrid are eyeing arsenal centre-back gabriel magalhaes as a replacement for eder militao, who recently sustained an acl injury. (pl brasil) tottenham plan to sell eric dier and bring in a new centre-back and star midfielder before the end of the transfer window. (football insider)\n"
     ]
    }
   ],
   "source": [
    "print(df[\"Content\"].iloc[0])\n",
    "print()\n",
    "print(df[\"normalized_Content\"].iloc[0])"
   ]
  },
  {
   "cell_type": "markdown",
   "metadata": {},
   "source": [
    "##### Observation\n",
    "From the above, its clearly visible that the normalized content is all in lowercase.All characters which are not in the basic english letter alphabet were also converted e.g.90minÂ to 90mina"
   ]
  },
  {
   "cell_type": "markdown",
   "metadata": {
    "id": "omPlB7mG5ZmR"
   },
   "source": [
    "# Stemming"
   ]
  },
  {
   "cell_type": "markdown",
   "metadata": {
    "id": "lplv_c376WO9"
   },
   "source": [
    "This is an  informal process of converting words of their base forms using heuristic rules. Its primary goal is to reduce words to their base ro root form, known as the stem. It involves removing common prefixes and suffixes from words which results in a simplified form that represents the word’s core meaning."
   ]
  },
  {
   "cell_type": "code",
   "execution_count": 15,
   "metadata": {
    "colab": {
     "base_uri": "https://localhost:8080/"
    },
    "id": "OccEKrBWxBI5",
    "outputId": "643df876-60e6-4282-9ee0-371f25dc5602"
   },
   "outputs": [
    {
     "name": "stderr",
     "output_type": "stream",
     "text": [
      "[nltk_data] Downloading package punkt to /root/nltk_data...\n",
      "[nltk_data]   Package punkt is already up-to-date!\n"
     ]
    }
   ],
   "source": [
    "import nltk\n",
    "import spacy\n",
    "from nltk.stem import PorterStemmer\n",
    "from nltk.tokenize import word_tokenize, sent_tokenize\n",
    "\n",
    "# Download NLTK resources if not already downloaded\n",
    "nltk.download('punkt')\n",
    "\n",
    "# Initialize the stemmer\n",
    "stemmer = PorterStemmer()"
   ]
  },
  {
   "cell_type": "code",
   "execution_count": 16,
   "metadata": {
    "id": "I3kYUPVtzBgo"
   },
   "outputs": [],
   "source": [
    "# Define a function to stem a single sentence\n",
    "def stem_sentence(sentence):\n",
    "    words = word_tokenize(sentence)\n",
    "    stemmed_words = [stemmer.stem(word) for word in words]\n",
    "    return ' '.join(stemmed_words)\n",
    "\n",
    "# Define a function to stem each sentence in a column\n",
    "def stem_column(column):\n",
    "    sentences = sent_tokenize(column)\n",
    "    stemmed_sentences = [stem_sentence(sentence) for sentence in sentences]\n",
    "    return ' '.join(stemmed_sentences)"
   ]
  },
  {
   "cell_type": "code",
   "execution_count": 17,
   "metadata": {
    "id": "eLeaWunoy314"
   },
   "outputs": [],
   "source": [
    "df['stemmed_Content'] = df['Content'].apply(stem_column)\n"
   ]
  },
  {
   "cell_type": "code",
   "execution_count": 18,
   "metadata": {
    "colab": {
     "base_uri": "https://localhost:8080/"
    },
    "id": "6ep3CJMFzw2R",
    "outputId": "230e7686-1beb-469e-f999-dac7cc665448"
   },
   "outputs": [
    {
     "name": "stdout",
     "output_type": "stream",
     "text": [
      "90minÂ rounds up the latestÂ transfer news, rumours and gossip circulating around the world... West Ham have called off their move for Harry Maguire despite agreeing a Â£30m fee with Manchester United. The England defender wanted a severance payment of around Â£7m in order to depart Old Trafford and accept a lower wage packet at London Stadium. (Guardian) Manchester United would have needed to sign a replacement for Maguire had he chose to leave but they would have been left short of time to do so this window. (The Athletic) Despite reports suggesting otherwise, Everton have not received a bid from Manchester United for midfielder Amadou Onana, though would demand a huge transfer fee in order to sell the Belgian. (Liverpool Echo) Chelsea have agreed a Â£58m fee with Southampton for Romeo Lavia as Todd Boehly's spending during his time as owner nears the Â£1bn mark. (The Athletic) Manchester City will ramp up their interest in Jeremy Doku once they formalise a new bid for Lucas Paqueta. (Fabrizio Romano) manual Barcelona recently knocked back an approach from Manchester City for 16-year-old wonderkid Lamine Yamal. City had planned to loan him out to Barca's Catalan neighbours Girona. (Mundo Deportivo) Al Nassr are exploring a shock move for Liverpool goalkeeper Alisson, who is believed to be open to a move to Saudi Arabia. (Foot Mercato) In terms of incomings, Liverpool are believed to have a six-player shortlist to fill their hole in defensive midfield after losing out on Romeo Lavia and Moises Caicedo to Chelsea. Fulham's Joao Palhinha and Crystal Palace's Cheick Doucoure are towards the top of that list. (Daily Mail) Real Madrid are eyeing Arsenal centre-back Gabriel Magalhaes as a replacement for Eder Militao, who recently sustained an ACL injury. (PL Brasil) Tottenham plan to sell Eric Dier and bring in a new centre-back and star midfielder before the end of the transfer window. (Football Insider)\n",
      "\n",
      "90minâ round up the latestâ transfer news , rumour and gossip circul around the world ... west ham have call off their move for harri maguir despit agre a â£30m fee with manchest unit . the england defend want a sever payment of around â£7m in order to depart old trafford and accept a lower wage packet at london stadium . ( guardian ) manchest unit would have need to sign a replac for maguir had he chose to leav but they would have been left short of time to do so thi window . ( the athlet ) despit report suggest otherwis , everton have not receiv a bid from manchest unit for midfield amad onana , though would demand a huge transfer fee in order to sell the belgian . ( liverpool echo ) chelsea have agre a â£58m fee with southampton for romeo lavia as todd boehli 's spend dure hi time as owner near the â£1bn mark . ( the athlet ) manchest citi will ramp up their interest in jeremi doku onc they formalis a new bid for luca paqueta . ( fabrizio romano ) manual barcelona recent knock back an approach from manchest citi for 16-year-old wonderkid lamin yamal . citi had plan to loan him out to barca 's catalan neighbour girona . ( mundo deportivo ) al nassr are explor a shock move for liverpool goalkeep alisson , who is believ to be open to a move to saudi arabia . ( foot mercato ) in term of incom , liverpool are believ to have a six-play shortlist to fill their hole in defens midfield after lose out on romeo lavia and mois caicedo to chelsea . fulham 's joao palhinha and crystal palac 's cheick doucour are toward the top of that list . ( daili mail ) real madrid are eye arsen centre-back gabriel magalha as a replac for eder militao , who recent sustain an acl injuri . ( pl brasil ) tottenham plan to sell eric dier and bring in a new centre-back and star midfield befor the end of the transfer window . ( footbal insid )\n"
     ]
    }
   ],
   "source": [
    "print(df[\"Content\"].iloc[0])\n",
    "print()\n",
    "print(df[\"stemmed_Content\"].iloc[0])"
   ]
  },
  {
   "cell_type": "markdown",
   "metadata": {},
   "source": [
    "###### Observation\n",
    "When looking at the first two sentences, there is clearly some change where som words have been stemmed. E.g. The word rumours has been stemmed to rumour, circulating to circul. Although some words have been stemmed, some others have been stemmed which should not have been like the names of people which shows the downside of stemming."
   ]
  },
  {
   "cell_type": "code",
   "execution_count": 18,
   "metadata": {
    "id": "ZiqFaqNGscKK"
   },
   "outputs": [],
   "source": []
  },
  {
   "cell_type": "markdown",
   "metadata": {
    "id": "APOxQYIO5ftL"
   },
   "source": [
    "# Lemmatization"
   ]
  },
  {
   "cell_type": "markdown",
   "metadata": {
    "id": "XEWn2JgGF4Ex"
   },
   "source": [
    "This an advanced technique that uses vocabulary and morphological analysis to determine the base form of a word. It produces a valid base form that can be found in a dictionary, making it more accurate than stemming. It considers the context and converts the word to its meaningful base form, which is called Lemma"
   ]
  },
  {
   "cell_type": "code",
   "execution_count": 19,
   "metadata": {
    "colab": {
     "base_uri": "https://localhost:8080/"
    },
    "id": "OCtU-Sa60nHN",
    "outputId": "4a84dc04-e5c3-40f7-c68e-00b3170e5dc1"
   },
   "outputs": [
    {
     "name": "stderr",
     "output_type": "stream",
     "text": [
      "[nltk_data] Downloading package punkt to /root/nltk_data...\n",
      "[nltk_data]   Package punkt is already up-to-date!\n",
      "[nltk_data] Downloading package wordnet to /root/nltk_data...\n"
     ]
    }
   ],
   "source": [
    "from nltk.stem import WordNetLemmatizer\n",
    "\n",
    "# Download NLTK resources if not already downloaded\n",
    "nltk.download('punkt')\n",
    "nltk.download('wordnet')\n",
    "\n",
    "# Initialize the lemmatizer\n",
    "lemmatizer = WordNetLemmatizer()"
   ]
  },
  {
   "cell_type": "code",
   "execution_count": 20,
   "metadata": {
    "id": "Z0wp9Hly0k-j"
   },
   "outputs": [],
   "source": [
    "# Load the English language model\n",
    "nlp = spacy.load(\"en_core_web_sm\")\n",
    "\n",
    "# Define a function to lemmatize a single sentence using spaCy\n",
    "def lemmatize_sentence_spacy(sentence):\n",
    "    doc = nlp(sentence)\n",
    "    lemmatized_words = [token.lemma_ for token in doc]\n",
    "    return ' '.join(lemmatized_words)\n",
    "\n",
    "# Define a function to lemmatize each sentence in a column using spaCy\n",
    "def lemmatize_column(column):\n",
    "    sentences = sent_tokenize(column)\n",
    "    lemmatized_sentences = [lemmatize_sentence_spacy(sentence) for sentence in sentences]\n",
    "    return ' '.join(lemmatized_sentences)"
   ]
  },
  {
   "cell_type": "code",
   "execution_count": 21,
   "metadata": {
    "id": "8SfaV_mt02kq"
   },
   "outputs": [],
   "source": [
    "df['lemmatized_content'] = df['Content'].apply(lemmatize_column)"
   ]
  },
  {
   "cell_type": "code",
   "execution_count": 22,
   "metadata": {
    "colab": {
     "base_uri": "https://localhost:8080/",
     "height": 380
    },
    "id": "yV-DjxLX0_R0",
    "outputId": "bb7b1f13-5a11-4678-ca3a-7f41b0130ece"
   },
   "outputs": [
    {
     "data": {
      "text/html": [
       "\n",
       "  <div id=\"df-0dba60f0-19fd-422f-80a1-e945e68f3632\" class=\"colab-df-container\">\n",
       "    <div>\n",
       "<style scoped>\n",
       "    .dataframe tbody tr th:only-of-type {\n",
       "        vertical-align: middle;\n",
       "    }\n",
       "\n",
       "    .dataframe tbody tr th {\n",
       "        vertical-align: top;\n",
       "    }\n",
       "\n",
       "    .dataframe thead th {\n",
       "        text-align: right;\n",
       "    }\n",
       "</style>\n",
       "<table border=\"1\" class=\"dataframe\">\n",
       "  <thead>\n",
       "    <tr style=\"text-align: right;\">\n",
       "      <th></th>\n",
       "      <th>Title</th>\n",
       "      <th>Content</th>\n",
       "      <th>normalized_Content</th>\n",
       "      <th>stemmed_Content</th>\n",
       "      <th>lemmatized_content</th>\n",
       "    </tr>\n",
       "  </thead>\n",
       "  <tbody>\n",
       "    <tr>\n",
       "      <th>0</th>\n",
       "      <td>Football transfer rumours: Why Maguire's Man U...</td>\n",
       "      <td>90minÂ rounds up the latestÂ transfer news, ru...</td>\n",
       "      <td>90mina rounds up the latesta transfer news, ru...</td>\n",
       "      <td>90minâ round up the latestâ transfer news , ru...</td>\n",
       "      <td>90minÂ   round up the latestâ   transfer news ...</td>\n",
       "    </tr>\n",
       "    <tr>\n",
       "      <th>1</th>\n",
       "      <td>Chelsea agree Romeo Lavia fee with Southampton</td>\n",
       "      <td>Chelsea have finalised an agreement with South...</td>\n",
       "      <td>chelsea have finalised an agreement with south...</td>\n",
       "      <td>chelsea have finalis an agreement with southam...</td>\n",
       "      <td>Chelsea have finalise an agreement with Southa...</td>\n",
       "    </tr>\n",
       "    <tr>\n",
       "      <th>2</th>\n",
       "      <td>Harry Maguire's proposed West Ham transfer col...</td>\n",
       "      <td>Harry Maguire's proposed transfer to West Ham ...</td>\n",
       "      <td>harry maguire's proposed transfer to west ham ...</td>\n",
       "      <td>harri maguir 's propos transfer to west ham un...</td>\n",
       "      <td>Harry Maguire 's propose transfer to West Ham ...</td>\n",
       "    </tr>\n",
       "    <tr>\n",
       "      <th>3</th>\n",
       "      <td>Southampton director breaks down Chelsea &amp; Liv...</td>\n",
       "      <td>Southampton director Jason Wilcox has revealed...</td>\n",
       "      <td>southampton director jason wilcox has revealed...</td>\n",
       "      <td>southampton director jason wilcox ha reveal he...</td>\n",
       "      <td>Southampton director Jason Wilcox have reveal ...</td>\n",
       "    </tr>\n",
       "    <tr>\n",
       "      <th>4</th>\n",
       "      <td>Neymar completes move from PSG to Al Hilal</td>\n",
       "      <td>Saudi Pro League side Al Hilal have confirmed ...</td>\n",
       "      <td>saudi pro league side al hilal have confirmed ...</td>\n",
       "      <td>saudi pro leagu side al hilal have confirm the...</td>\n",
       "      <td>Saudi Pro League side Al Hilal have confirm th...</td>\n",
       "    </tr>\n",
       "  </tbody>\n",
       "</table>\n",
       "</div>\n",
       "    <div class=\"colab-df-buttons\">\n",
       "\n",
       "  <div class=\"colab-df-container\">\n",
       "    <button class=\"colab-df-convert\" onclick=\"convertToInteractive('df-0dba60f0-19fd-422f-80a1-e945e68f3632')\"\n",
       "            title=\"Convert this dataframe to an interactive table.\"\n",
       "            style=\"display:none;\">\n",
       "\n",
       "  <svg xmlns=\"http://www.w3.org/2000/svg\" height=\"24px\" viewBox=\"0 -960 960 960\">\n",
       "    <path d=\"M120-120v-720h720v720H120Zm60-500h600v-160H180v160Zm220 220h160v-160H400v160Zm0 220h160v-160H400v160ZM180-400h160v-160H180v160Zm440 0h160v-160H620v160ZM180-180h160v-160H180v160Zm440 0h160v-160H620v160Z\"/>\n",
       "  </svg>\n",
       "    </button>\n",
       "\n",
       "  <style>\n",
       "    .colab-df-container {\n",
       "      display:flex;\n",
       "      gap: 12px;\n",
       "    }\n",
       "\n",
       "    .colab-df-convert {\n",
       "      background-color: #E8F0FE;\n",
       "      border: none;\n",
       "      border-radius: 50%;\n",
       "      cursor: pointer;\n",
       "      display: none;\n",
       "      fill: #1967D2;\n",
       "      height: 32px;\n",
       "      padding: 0 0 0 0;\n",
       "      width: 32px;\n",
       "    }\n",
       "\n",
       "    .colab-df-convert:hover {\n",
       "      background-color: #E2EBFA;\n",
       "      box-shadow: 0px 1px 2px rgba(60, 64, 67, 0.3), 0px 1px 3px 1px rgba(60, 64, 67, 0.15);\n",
       "      fill: #174EA6;\n",
       "    }\n",
       "\n",
       "    .colab-df-buttons div {\n",
       "      margin-bottom: 4px;\n",
       "    }\n",
       "\n",
       "    [theme=dark] .colab-df-convert {\n",
       "      background-color: #3B4455;\n",
       "      fill: #D2E3FC;\n",
       "    }\n",
       "\n",
       "    [theme=dark] .colab-df-convert:hover {\n",
       "      background-color: #434B5C;\n",
       "      box-shadow: 0px 1px 3px 1px rgba(0, 0, 0, 0.15);\n",
       "      filter: drop-shadow(0px 1px 2px rgba(0, 0, 0, 0.3));\n",
       "      fill: #FFFFFF;\n",
       "    }\n",
       "  </style>\n",
       "\n",
       "    <script>\n",
       "      const buttonEl =\n",
       "        document.querySelector('#df-0dba60f0-19fd-422f-80a1-e945e68f3632 button.colab-df-convert');\n",
       "      buttonEl.style.display =\n",
       "        google.colab.kernel.accessAllowed ? 'block' : 'none';\n",
       "\n",
       "      async function convertToInteractive(key) {\n",
       "        const element = document.querySelector('#df-0dba60f0-19fd-422f-80a1-e945e68f3632');\n",
       "        const dataTable =\n",
       "          await google.colab.kernel.invokeFunction('convertToInteractive',\n",
       "                                                    [key], {});\n",
       "        if (!dataTable) return;\n",
       "\n",
       "        const docLinkHtml = 'Like what you see? Visit the ' +\n",
       "          '<a target=\"_blank\" href=https://colab.research.google.com/notebooks/data_table.ipynb>data table notebook</a>'\n",
       "          + ' to learn more about interactive tables.';\n",
       "        element.innerHTML = '';\n",
       "        dataTable['output_type'] = 'display_data';\n",
       "        await google.colab.output.renderOutput(dataTable, element);\n",
       "        const docLink = document.createElement('div');\n",
       "        docLink.innerHTML = docLinkHtml;\n",
       "        element.appendChild(docLink);\n",
       "      }\n",
       "    </script>\n",
       "  </div>\n",
       "\n",
       "\n",
       "<div id=\"df-f945e0e7-e9db-46f8-a950-87e110963f27\">\n",
       "  <button class=\"colab-df-quickchart\" onclick=\"quickchart('df-f945e0e7-e9db-46f8-a950-87e110963f27')\"\n",
       "            title=\"Suggest charts\"\n",
       "            style=\"display:none;\">\n",
       "\n",
       "<svg xmlns=\"http://www.w3.org/2000/svg\" height=\"24px\"viewBox=\"0 0 24 24\"\n",
       "     width=\"24px\">\n",
       "    <g>\n",
       "        <path d=\"M19 3H5c-1.1 0-2 .9-2 2v14c0 1.1.9 2 2 2h14c1.1 0 2-.9 2-2V5c0-1.1-.9-2-2-2zM9 17H7v-7h2v7zm4 0h-2V7h2v10zm4 0h-2v-4h2v4z\"/>\n",
       "    </g>\n",
       "</svg>\n",
       "  </button>\n",
       "\n",
       "<style>\n",
       "  .colab-df-quickchart {\n",
       "      --bg-color: #E8F0FE;\n",
       "      --fill-color: #1967D2;\n",
       "      --hover-bg-color: #E2EBFA;\n",
       "      --hover-fill-color: #174EA6;\n",
       "      --disabled-fill-color: #AAA;\n",
       "      --disabled-bg-color: #DDD;\n",
       "  }\n",
       "\n",
       "  [theme=dark] .colab-df-quickchart {\n",
       "      --bg-color: #3B4455;\n",
       "      --fill-color: #D2E3FC;\n",
       "      --hover-bg-color: #434B5C;\n",
       "      --hover-fill-color: #FFFFFF;\n",
       "      --disabled-bg-color: #3B4455;\n",
       "      --disabled-fill-color: #666;\n",
       "  }\n",
       "\n",
       "  .colab-df-quickchart {\n",
       "    background-color: var(--bg-color);\n",
       "    border: none;\n",
       "    border-radius: 50%;\n",
       "    cursor: pointer;\n",
       "    display: none;\n",
       "    fill: var(--fill-color);\n",
       "    height: 32px;\n",
       "    padding: 0;\n",
       "    width: 32px;\n",
       "  }\n",
       "\n",
       "  .colab-df-quickchart:hover {\n",
       "    background-color: var(--hover-bg-color);\n",
       "    box-shadow: 0 1px 2px rgba(60, 64, 67, 0.3), 0 1px 3px 1px rgba(60, 64, 67, 0.15);\n",
       "    fill: var(--button-hover-fill-color);\n",
       "  }\n",
       "\n",
       "  .colab-df-quickchart-complete:disabled,\n",
       "  .colab-df-quickchart-complete:disabled:hover {\n",
       "    background-color: var(--disabled-bg-color);\n",
       "    fill: var(--disabled-fill-color);\n",
       "    box-shadow: none;\n",
       "  }\n",
       "\n",
       "  .colab-df-spinner {\n",
       "    border: 2px solid var(--fill-color);\n",
       "    border-color: transparent;\n",
       "    border-bottom-color: var(--fill-color);\n",
       "    animation:\n",
       "      spin 1s steps(1) infinite;\n",
       "  }\n",
       "\n",
       "  @keyframes spin {\n",
       "    0% {\n",
       "      border-color: transparent;\n",
       "      border-bottom-color: var(--fill-color);\n",
       "      border-left-color: var(--fill-color);\n",
       "    }\n",
       "    20% {\n",
       "      border-color: transparent;\n",
       "      border-left-color: var(--fill-color);\n",
       "      border-top-color: var(--fill-color);\n",
       "    }\n",
       "    30% {\n",
       "      border-color: transparent;\n",
       "      border-left-color: var(--fill-color);\n",
       "      border-top-color: var(--fill-color);\n",
       "      border-right-color: var(--fill-color);\n",
       "    }\n",
       "    40% {\n",
       "      border-color: transparent;\n",
       "      border-right-color: var(--fill-color);\n",
       "      border-top-color: var(--fill-color);\n",
       "    }\n",
       "    60% {\n",
       "      border-color: transparent;\n",
       "      border-right-color: var(--fill-color);\n",
       "    }\n",
       "    80% {\n",
       "      border-color: transparent;\n",
       "      border-right-color: var(--fill-color);\n",
       "      border-bottom-color: var(--fill-color);\n",
       "    }\n",
       "    90% {\n",
       "      border-color: transparent;\n",
       "      border-bottom-color: var(--fill-color);\n",
       "    }\n",
       "  }\n",
       "</style>\n",
       "\n",
       "  <script>\n",
       "    async function quickchart(key) {\n",
       "      const quickchartButtonEl =\n",
       "        document.querySelector('#' + key + ' button');\n",
       "      quickchartButtonEl.disabled = true;  // To prevent multiple clicks.\n",
       "      quickchartButtonEl.classList.add('colab-df-spinner');\n",
       "      try {\n",
       "        const charts = await google.colab.kernel.invokeFunction(\n",
       "            'suggestCharts', [key], {});\n",
       "      } catch (error) {\n",
       "        console.error('Error during call to suggestCharts:', error);\n",
       "      }\n",
       "      quickchartButtonEl.classList.remove('colab-df-spinner');\n",
       "      quickchartButtonEl.classList.add('colab-df-quickchart-complete');\n",
       "    }\n",
       "    (() => {\n",
       "      let quickchartButtonEl =\n",
       "        document.querySelector('#df-f945e0e7-e9db-46f8-a950-87e110963f27 button');\n",
       "      quickchartButtonEl.style.display =\n",
       "        google.colab.kernel.accessAllowed ? 'block' : 'none';\n",
       "    })();\n",
       "  </script>\n",
       "</div>\n",
       "\n",
       "    </div>\n",
       "  </div>\n"
      ],
      "text/plain": [
       "                                               Title  \\\n",
       "0  Football transfer rumours: Why Maguire's Man U...   \n",
       "1     Chelsea agree Romeo Lavia fee with Southampton   \n",
       "2  Harry Maguire's proposed West Ham transfer col...   \n",
       "3  Southampton director breaks down Chelsea & Liv...   \n",
       "4         Neymar completes move from PSG to Al Hilal   \n",
       "\n",
       "                                             Content  \\\n",
       "0  90minÂ rounds up the latestÂ transfer news, ru...   \n",
       "1  Chelsea have finalised an agreement with South...   \n",
       "2  Harry Maguire's proposed transfer to West Ham ...   \n",
       "3  Southampton director Jason Wilcox has revealed...   \n",
       "4  Saudi Pro League side Al Hilal have confirmed ...   \n",
       "\n",
       "                                  normalized_Content  \\\n",
       "0  90mina rounds up the latesta transfer news, ru...   \n",
       "1  chelsea have finalised an agreement with south...   \n",
       "2  harry maguire's proposed transfer to west ham ...   \n",
       "3  southampton director jason wilcox has revealed...   \n",
       "4  saudi pro league side al hilal have confirmed ...   \n",
       "\n",
       "                                     stemmed_Content  \\\n",
       "0  90minâ round up the latestâ transfer news , ru...   \n",
       "1  chelsea have finalis an agreement with southam...   \n",
       "2  harri maguir 's propos transfer to west ham un...   \n",
       "3  southampton director jason wilcox ha reveal he...   \n",
       "4  saudi pro leagu side al hilal have confirm the...   \n",
       "\n",
       "                                  lemmatized_content  \n",
       "0  90minÂ   round up the latestâ   transfer news ...  \n",
       "1  Chelsea have finalise an agreement with Southa...  \n",
       "2  Harry Maguire 's propose transfer to West Ham ...  \n",
       "3  Southampton director Jason Wilcox have reveal ...  \n",
       "4  Saudi Pro League side Al Hilal have confirm th...  "
      ]
     },
     "execution_count": 22,
     "metadata": {},
     "output_type": "execute_result"
    }
   ],
   "source": [
    "df.head()"
   ]
  },
  {
   "cell_type": "code",
   "execution_count": 23,
   "metadata": {
    "colab": {
     "base_uri": "https://localhost:8080/"
    },
    "id": "y2dFZGzn75yu",
    "outputId": "e7e8c93b-1370-45eb-d6fc-4651c2eb9a0b"
   },
   "outputs": [
    {
     "name": "stdout",
     "output_type": "stream",
     "text": [
      "90minÂ rounds up the latestÂ transfer news, rumours and gossip circulating around the world... West Ham have called off their move for Harry Maguire despite agreeing a Â£30m fee with Manchester United. The England defender wanted a severance payment of around Â£7m in order to depart Old Trafford and accept a lower wage packet at London Stadium. (Guardian) Manchester United would have needed to sign a replacement for Maguire had he chose to leave but they would have been left short of time to do so this window. (The Athletic) Despite reports suggesting otherwise, Everton have not received a bid from Manchester United for midfielder Amadou Onana, though would demand a huge transfer fee in order to sell the Belgian. (Liverpool Echo) Chelsea have agreed a Â£58m fee with Southampton for Romeo Lavia as Todd Boehly's spending during his time as owner nears the Â£1bn mark. (The Athletic) Manchester City will ramp up their interest in Jeremy Doku once they formalise a new bid for Lucas Paqueta. (Fabrizio Romano) manual Barcelona recently knocked back an approach from Manchester City for 16-year-old wonderkid Lamine Yamal. City had planned to loan him out to Barca's Catalan neighbours Girona. (Mundo Deportivo) Al Nassr are exploring a shock move for Liverpool goalkeeper Alisson, who is believed to be open to a move to Saudi Arabia. (Foot Mercato) In terms of incomings, Liverpool are believed to have a six-player shortlist to fill their hole in defensive midfield after losing out on Romeo Lavia and Moises Caicedo to Chelsea. Fulham's Joao Palhinha and Crystal Palace's Cheick Doucoure are towards the top of that list. (Daily Mail) Real Madrid are eyeing Arsenal centre-back Gabriel Magalhaes as a replacement for Eder Militao, who recently sustained an ACL injury. (PL Brasil) Tottenham plan to sell Eric Dier and bring in a new centre-back and star midfielder before the end of the transfer window. (Football Insider)\n",
      "\n",
      "90minÂ   round up the latestâ   transfer news , rumour and gossip circulate around the world ... West Ham have call off their move for Harry Maguire despite agree a â£30 m fee with Manchester United . the England defender want a severance payment of around Â£7 m in order to depart Old Trafford and accept a low wage packet at London Stadium . ( Guardian ) Manchester United would have need to sign a replacement for Maguire have he choose to leave but they would have be leave short of time to do so this window . ( the Athletic ) despite report suggest otherwise , Everton have not receive a bid from Manchester United for midfielder Amadou Onana , though would demand a huge transfer fee in order to sell the Belgian . ( Liverpool Echo ) Chelsea have agree a â£58 m fee with Southampton for Romeo Lavia as Todd Boehly 's spending during his time as owner near the â£1bn mark . ( the Athletic ) Manchester City will ramp up their interest in Jeremy Doku once they formalise a new bid for Lucas Paqueta . ( Fabrizio Romano ) manual Barcelona recently knock back an approach from Manchester City for 16 - year - old wonderkid Lamine Yamal . City have plan to loan he out to Barca 's Catalan neighbour Girona . ( Mundo Deportivo ) Al Nassr be explore a shock move for Liverpool goalkeeper Alisson , who be believe to be open to a move to Saudi Arabia . ( Foot Mercato ) in term of incoming , Liverpool be believe to have a six - player shortlist to fill their hole in defensive midfield after lose out on Romeo Lavia and Moises Caicedo to Chelsea . Fulham 's Joao Palhinha and Crystal Palace 's Cheick Doucoure be towards the top of that list . ( Daily Mail ) Real Madrid be eye Arsenal centre - back Gabriel Magalhaes as a replacement for Eder Militao , who recently sustain an ACL injury . ( PL Brasil ) Tottenham plan to sell Eric Dier and bring in a new centre - back and star midfielder before the end of the transfer window . ( Football Insider )\n"
     ]
    }
   ],
   "source": [
    "print(df[\"Content\"].iloc[0])\n",
    "print()\n",
    "print(df[\"lemmatized_content\"].iloc[0])\n"
   ]
  },
  {
   "cell_type": "markdown",
   "metadata": {
    "id": "-r2cy8R55yF0"
   },
   "source": [
    "# Text Enrichment / Augmentation (e.g.POS)"
   ]
  },
  {
   "cell_type": "markdown",
   "metadata": {
    "id": "PVtxdExHISjW"
   },
   "source": [
    "Text enrichment or augmentation involves adding additional information or annotations to text data. This can include part-of-speech (POS) tagging, which assigns grammatical categories to words in a sentence. POS tagging helps in understanding the syntactic structure of text and is useful for tasks like information extraction, parsing, and machine translation"
   ]
  },
  {
   "cell_type": "code",
   "execution_count": 24,
   "metadata": {
    "id": "rlf_KRWJPizS"
   },
   "outputs": [],
   "source": [
    "# Define a function to enrich a single sentence with POS tags\n",
    "def enrich_sentence(sentence):\n",
    "    doc = nlp(sentence)\n",
    "    enriched_sentence = {\n",
    "        \"tokens\": [token.text for token in doc],\n",
    "        \"pos_tags\": [token.pos_ for token in doc]\n",
    "    }\n",
    "    return enriched_sentence\n",
    "\n",
    "# Define a function to enrich each sentence in a column\n",
    "def enrich_column(column):\n",
    "    sentences = column.split('. ')  # Assuming each sentence ends with a period followed by a space\n",
    "    enriched_sentences = [enrich_sentence(sentence) for sentence in sentences]\n",
    "    return enriched_sentences"
   ]
  },
  {
   "cell_type": "code",
   "execution_count": 25,
   "metadata": {
    "id": "uFXaNU8xPmTc"
   },
   "outputs": [],
   "source": [
    "df['enriched_text'] = df['Content'].apply(enrich_column)"
   ]
  },
  {
   "cell_type": "code",
   "execution_count": 26,
   "metadata": {
    "colab": {
     "base_uri": "https://localhost:8080/"
    },
    "id": "KzA6FzrMP2zp",
    "outputId": "22c04ed2-6bb4-4d9a-f7bd-9d1fbe70d874"
   },
   "outputs": [
    {
     "name": "stdout",
     "output_type": "stream",
     "text": [
      "90minÂ rounds up the latestÂ transfer news, rumours and gossip circulating around the world... West Ham have called off their move for Harry Maguire despite agreeing a Â£30m fee with Manchester United. The England defender wanted a severance payment of around Â£7m in order to depart Old Trafford and accept a lower wage packet at London Stadium. (Guardian) Manchester United would have needed to sign a replacement for Maguire had he chose to leave but they would have been left short of time to do so this window. (The Athletic) Despite reports suggesting otherwise, Everton have not received a bid from Manchester United for midfielder Amadou Onana, though would demand a huge transfer fee in order to sell the Belgian. (Liverpool Echo) Chelsea have agreed a Â£58m fee with Southampton for Romeo Lavia as Todd Boehly's spending during his time as owner nears the Â£1bn mark. (The Athletic) Manchester City will ramp up their interest in Jeremy Doku once they formalise a new bid for Lucas Paqueta. (Fabrizio Romano) manual Barcelona recently knocked back an approach from Manchester City for 16-year-old wonderkid Lamine Yamal. City had planned to loan him out to Barca's Catalan neighbours Girona. (Mundo Deportivo) Al Nassr are exploring a shock move for Liverpool goalkeeper Alisson, who is believed to be open to a move to Saudi Arabia. (Foot Mercato) In terms of incomings, Liverpool are believed to have a six-player shortlist to fill their hole in defensive midfield after losing out on Romeo Lavia and Moises Caicedo to Chelsea. Fulham's Joao Palhinha and Crystal Palace's Cheick Doucoure are towards the top of that list. (Daily Mail) Real Madrid are eyeing Arsenal centre-back Gabriel Magalhaes as a replacement for Eder Militao, who recently sustained an ACL injury. (PL Brasil) Tottenham plan to sell Eric Dier and bring in a new centre-back and star midfielder before the end of the transfer window. (Football Insider)\n",
      "\n",
      "[{'tokens': ['90minÂ', '\\xa0', 'rounds', 'up', 'the', 'latestÂ', '\\xa0', 'transfer', 'news', ',', 'rumours', 'and', 'gossip', 'circulating', 'around', 'the', 'world', '..'], 'pos_tags': ['NOUN', 'SPACE', 'VERB', 'ADP', 'DET', 'NOUN', 'SPACE', 'NOUN', 'NOUN', 'PUNCT', 'NOUN', 'CCONJ', 'NOUN', 'VERB', 'ADP', 'DET', 'NOUN', 'PUNCT']}, {'tokens': ['West', 'Ham', 'have', 'called', 'off', 'their', 'move', 'for', 'Harry', 'Maguire', 'despite', 'agreeing', 'a', 'Â£30', 'm', 'fee', 'with', 'Manchester', 'United'], 'pos_tags': ['PROPN', 'PROPN', 'AUX', 'VERB', 'ADP', 'PRON', 'NOUN', 'ADP', 'PROPN', 'PROPN', 'SCONJ', 'VERB', 'DET', 'NOUN', 'NOUN', 'NOUN', 'ADP', 'PROPN', 'PROPN']}, {'tokens': ['The', 'England', 'defender', 'wanted', 'a', 'severance', 'payment', 'of', 'around', 'Â£7', 'm', 'in', 'order', 'to', 'depart', 'Old', 'Trafford', 'and', 'accept', 'a', 'lower', 'wage', 'packet', 'at', 'London', 'Stadium'], 'pos_tags': ['DET', 'PROPN', 'NOUN', 'VERB', 'DET', 'NOUN', 'NOUN', 'ADP', 'ADP', 'PROPN', 'VERB', 'ADP', 'NOUN', 'PART', 'VERB', 'PROPN', 'PROPN', 'CCONJ', 'VERB', 'DET', 'ADJ', 'NOUN', 'NOUN', 'ADP', 'PROPN', 'PROPN']}, {'tokens': ['(', 'Guardian', ')', 'Manchester', 'United', 'would', 'have', 'needed', 'to', 'sign', 'a', 'replacement', 'for', 'Maguire', 'had', 'he', 'chose', 'to', 'leave', 'but', 'they', 'would', 'have', 'been', 'left', 'short', 'of', 'time', 'to', 'do', 'so', 'this', 'window'], 'pos_tags': ['PUNCT', 'PROPN', 'PUNCT', 'PROPN', 'PROPN', 'AUX', 'AUX', 'VERB', 'PART', 'VERB', 'DET', 'NOUN', 'ADP', 'PROPN', 'AUX', 'PRON', 'VERB', 'PART', 'VERB', 'CCONJ', 'PRON', 'AUX', 'AUX', 'AUX', 'VERB', 'ADJ', 'ADP', 'NOUN', 'PART', 'VERB', 'ADV', 'DET', 'NOUN']}, {'tokens': ['(', 'The', 'Athletic', ')', 'Despite', 'reports', 'suggesting', 'otherwise', ',', 'Everton', 'have', 'not', 'received', 'a', 'bid', 'from', 'Manchester', 'United', 'for', 'midfielder', 'Amadou', 'Onana', ',', 'though', 'would', 'demand', 'a', 'huge', 'transfer', 'fee', 'in', 'order', 'to', 'sell', 'the', 'Belgian'], 'pos_tags': ['PUNCT', 'DET', 'PROPN', 'PUNCT', 'SCONJ', 'NOUN', 'VERB', 'ADV', 'PUNCT', 'PROPN', 'AUX', 'PART', 'VERB', 'DET', 'NOUN', 'ADP', 'PROPN', 'PROPN', 'ADP', 'NOUN', 'PROPN', 'PROPN', 'PUNCT', 'SCONJ', 'AUX', 'VERB', 'DET', 'ADJ', 'NOUN', 'NOUN', 'ADP', 'NOUN', 'PART', 'VERB', 'DET', 'PROPN']}, {'tokens': ['(', 'Liverpool', 'Echo', ')', 'Chelsea', 'have', 'agreed', 'a', 'Â£58', 'm', 'fee', 'with', 'Southampton', 'for', 'Romeo', 'Lavia', 'as', 'Todd', 'Boehly', \"'s\", 'spending', 'during', 'his', 'time', 'as', 'owner', 'nears', 'the', 'Â£1bn', 'mark'], 'pos_tags': ['PUNCT', 'PROPN', 'PROPN', 'PUNCT', 'PROPN', 'AUX', 'VERB', 'DET', 'ADJ', 'NOUN', 'NOUN', 'ADP', 'PROPN', 'ADP', 'PROPN', 'PROPN', 'ADP', 'PROPN', 'PROPN', 'PART', 'NOUN', 'ADP', 'PRON', 'NOUN', 'SCONJ', 'NOUN', 'VERB', 'DET', 'NOUN', 'NOUN']}, {'tokens': ['(', 'The', 'Athletic', ')', 'Manchester', 'City', 'will', 'ramp', 'up', 'their', 'interest', 'in', 'Jeremy', 'Doku', 'once', 'they', 'formalise', 'a', 'new', 'bid', 'for', 'Lucas', 'Paqueta'], 'pos_tags': ['PUNCT', 'DET', 'PROPN', 'PUNCT', 'PROPN', 'PROPN', 'AUX', 'VERB', 'ADP', 'PRON', 'NOUN', 'ADP', 'PROPN', 'PROPN', 'SCONJ', 'PRON', 'VERB', 'DET', 'ADJ', 'NOUN', 'ADP', 'PROPN', 'PROPN']}, {'tokens': ['(', 'Fabrizio', 'Romano', ')', 'manual', 'Barcelona', 'recently', 'knocked', 'back', 'an', 'approach', 'from', 'Manchester', 'City', 'for', '16', '-', 'year', '-', 'old', 'wonderkid', 'Lamine', 'Yamal'], 'pos_tags': ['PUNCT', 'PROPN', 'PROPN', 'PUNCT', 'ADJ', 'PROPN', 'ADV', 'VERB', 'ADP', 'DET', 'NOUN', 'ADP', 'PROPN', 'PROPN', 'ADP', 'NUM', 'PUNCT', 'NOUN', 'PUNCT', 'ADJ', 'NOUN', 'PROPN', 'PROPN']}, {'tokens': ['City', 'had', 'planned', 'to', 'loan', 'him', 'out', 'to', 'Barca', \"'s\", 'Catalan', 'neighbours', 'Girona'], 'pos_tags': ['PROPN', 'AUX', 'VERB', 'PART', 'VERB', 'PRON', 'ADP', 'ADP', 'PROPN', 'PART', 'PROPN', 'NOUN', 'PROPN']}, {'tokens': ['(', 'Mundo', 'Deportivo', ')', 'Al', 'Nassr', 'are', 'exploring', 'a', 'shock', 'move', 'for', 'Liverpool', 'goalkeeper', 'Alisson', ',', 'who', 'is', 'believed', 'to', 'be', 'open', 'to', 'a', 'move', 'to', 'Saudi', 'Arabia'], 'pos_tags': ['PUNCT', 'PROPN', 'PROPN', 'PUNCT', 'PROPN', 'PROPN', 'AUX', 'VERB', 'DET', 'NOUN', 'NOUN', 'ADP', 'PROPN', 'PROPN', 'PROPN', 'PUNCT', 'PRON', 'AUX', 'VERB', 'PART', 'AUX', 'ADJ', 'ADP', 'DET', 'NOUN', 'ADP', 'PROPN', 'PROPN']}, {'tokens': ['(', 'Foot', 'Mercato', ')', 'In', 'terms', 'of', 'incomings', ',', 'Liverpool', 'are', 'believed', 'to', 'have', 'a', 'six', '-', 'player', 'shortlist', 'to', 'fill', 'their', 'hole', 'in', 'defensive', 'midfield', 'after', 'losing', 'out', 'on', 'Romeo', 'Lavia', 'and', 'Moises', 'Caicedo', 'to', 'Chelsea'], 'pos_tags': ['PUNCT', 'PROPN', 'PROPN', 'PUNCT', 'ADP', 'NOUN', 'ADP', 'NOUN', 'PUNCT', 'PROPN', 'AUX', 'VERB', 'PART', 'VERB', 'DET', 'NUM', 'PUNCT', 'NOUN', 'NOUN', 'PART', 'VERB', 'PRON', 'NOUN', 'ADP', 'ADJ', 'NOUN', 'ADP', 'VERB', 'ADP', 'ADP', 'PROPN', 'PROPN', 'CCONJ', 'PROPN', 'PROPN', 'ADP', 'PROPN']}, {'tokens': ['Fulham', \"'s\", 'Joao', 'Palhinha', 'and', 'Crystal', 'Palace', \"'s\", 'Cheick', 'Doucoure', 'are', 'towards', 'the', 'top', 'of', 'that', 'list'], 'pos_tags': ['PROPN', 'PART', 'PROPN', 'PROPN', 'CCONJ', 'PROPN', 'PROPN', 'PART', 'PROPN', 'PROPN', 'AUX', 'ADP', 'DET', 'NOUN', 'ADP', 'DET', 'NOUN']}, {'tokens': ['(', 'Daily', 'Mail', ')', 'Real', 'Madrid', 'are', 'eyeing', 'Arsenal', 'centre', '-', 'back', 'Gabriel', 'Magalhaes', 'as', 'a', 'replacement', 'for', 'Eder', 'Militao', ',', 'who', 'recently', 'sustained', 'an', 'ACL', 'injury'], 'pos_tags': ['PUNCT', 'PROPN', 'PROPN', 'PUNCT', 'PROPN', 'PROPN', 'AUX', 'VERB', 'PROPN', 'NOUN', 'PUNCT', 'NOUN', 'PROPN', 'PROPN', 'ADP', 'DET', 'NOUN', 'ADP', 'PROPN', 'PROPN', 'PUNCT', 'PRON', 'ADV', 'VERB', 'DET', 'PROPN', 'NOUN']}, {'tokens': ['(', 'PL', 'Brasil', ')', 'Tottenham', 'plan', 'to', 'sell', 'Eric', 'Dier', 'and', 'bring', 'in', 'a', 'new', 'centre', '-', 'back', 'and', 'star', 'midfielder', 'before', 'the', 'end', 'of', 'the', 'transfer', 'window'], 'pos_tags': ['PUNCT', 'PROPN', 'PROPN', 'PUNCT', 'PROPN', 'VERB', 'PART', 'VERB', 'PROPN', 'PROPN', 'CCONJ', 'VERB', 'ADP', 'DET', 'ADJ', 'NOUN', 'PUNCT', 'NOUN', 'CCONJ', 'NOUN', 'NOUN', 'ADP', 'DET', 'NOUN', 'ADP', 'DET', 'NOUN', 'NOUN']}, {'tokens': ['(', 'Football', 'Insider', ')'], 'pos_tags': ['PUNCT', 'PROPN', 'PROPN', 'PUNCT']}]\n"
     ]
    }
   ],
   "source": [
    "print(df[\"Content\"].iloc[0])\n",
    "print()\n",
    "print(df[\"enriched_text\"].iloc[0])"
   ]
  },
  {
   "cell_type": "markdown",
   "metadata": {},
   "source": [
    "###### Observation\n",
    "From the above, its seen that there is  additional information or annotations to text data which was provided. We can see things like nouns, punctuations and other additional information added to the data."
   ]
  },
  {
   "cell_type": "markdown",
   "metadata": {
    "id": "m-In2Y9b59hn"
   },
   "source": [
    "# Named Entity Recognition"
   ]
  },
  {
   "cell_type": "markdown",
   "metadata": {
    "id": "4J3FNjFLIaHJ"
   },
   "source": [
    "This is the task of identifying and classifying named entities in text into predefined categories such as person names, organization names, locations, dates, etc. Named Entity Recognition is crucial for extracting structured information from unstructured text data and is used in various applications like information retrieval, question answering, and entity linking."
   ]
  },
  {
   "cell_type": "code",
   "execution_count": 27,
   "metadata": {
    "id": "AFDizkJOPlVZ"
   },
   "outputs": [],
   "source": [
    "# Define a function to perform named entity recognition on a single sentence\n",
    "def ner_sentence(sentence):\n",
    "    doc = nlp(sentence)\n",
    "    entities = [(ent.text, ent.label_) for ent in doc.ents]\n",
    "    return entities\n",
    "\n",
    "# Define a function to perform named entity recognition on each sentence in a column\n",
    "def ner_column(column):\n",
    "    sentences = column.split('. ')  # Assuming each sentence ends with a period followed by a space\n",
    "    ner_results = [ner_sentence(sentence) for sentence in sentences]\n",
    "    return ner_results"
   ]
  },
  {
   "cell_type": "code",
   "execution_count": 28,
   "metadata": {
    "id": "1QJG-2PXRFP0"
   },
   "outputs": [],
   "source": [
    "df['ner_results'] = df['Content'].apply(ner_column)"
   ]
  },
  {
   "cell_type": "code",
   "execution_count": 29,
   "metadata": {
    "colab": {
     "base_uri": "https://localhost:8080/"
    },
    "id": "0Bti9Q1eROoo",
    "outputId": "3c7fc4e1-a909-4ec3-ef95-be6602b14f81"
   },
   "outputs": [
    {
     "name": "stdout",
     "output_type": "stream",
     "text": [
      "90minÂ rounds up the latestÂ transfer news, rumours and gossip circulating around the world... West Ham have called off their move for Harry Maguire despite agreeing a Â£30m fee with Manchester United. The England defender wanted a severance payment of around Â£7m in order to depart Old Trafford and accept a lower wage packet at London Stadium. (Guardian) Manchester United would have needed to sign a replacement for Maguire had he chose to leave but they would have been left short of time to do so this window. (The Athletic) Despite reports suggesting otherwise, Everton have not received a bid from Manchester United for midfielder Amadou Onana, though would demand a huge transfer fee in order to sell the Belgian. (Liverpool Echo) Chelsea have agreed a Â£58m fee with Southampton for Romeo Lavia as Todd Boehly's spending during his time as owner nears the Â£1bn mark. (The Athletic) Manchester City will ramp up their interest in Jeremy Doku once they formalise a new bid for Lucas Paqueta. (Fabrizio Romano) manual Barcelona recently knocked back an approach from Manchester City for 16-year-old wonderkid Lamine Yamal. City had planned to loan him out to Barca's Catalan neighbours Girona. (Mundo Deportivo) Al Nassr are exploring a shock move for Liverpool goalkeeper Alisson, who is believed to be open to a move to Saudi Arabia. (Foot Mercato) In terms of incomings, Liverpool are believed to have a six-player shortlist to fill their hole in defensive midfield after losing out on Romeo Lavia and Moises Caicedo to Chelsea. Fulham's Joao Palhinha and Crystal Palace's Cheick Doucoure are towards the top of that list. (Daily Mail) Real Madrid are eyeing Arsenal centre-back Gabriel Magalhaes as a replacement for Eder Militao, who recently sustained an ACL injury. (PL Brasil) Tottenham plan to sell Eric Dier and bring in a new centre-back and star midfielder before the end of the transfer window. (Football Insider)\n",
      "\n",
      "[[('90minÂ', 'CARDINAL')], [('West Ham', 'GPE'), ('Harry Maguire', 'PERSON'), ('Manchester United', 'ORG')], [('England', 'GPE'), ('Trafford', 'PERSON'), ('London Stadium', 'FAC')], [('Guardian', 'ORG'), ('Manchester United', 'PERSON'), ('Maguire', 'PERSON')], [('Everton', 'PERSON'), ('Manchester United', 'ORG'), ('Amadou Onana', 'PERSON'), ('Belgian', 'NORP')], [('Liverpool Echo', 'ORG'), ('Southampton', 'GPE'), ('Romeo Lavia', 'PERSON'), (\"Todd Boehly's\", 'PERSON'), ('Â£1bn', 'CARDINAL')], [('Manchester City', 'GPE'), ('Jeremy Doku', 'PERSON'), ('Lucas Paqueta', 'GPE')], [('Fabrizio Romano', 'PERSON'), ('Barcelona', 'ORG'), ('Manchester City', 'GPE'), ('16-year-old', 'DATE'), ('Lamine Yamal', 'PERSON')], [(\"Barca's Catalan\", 'ORG'), ('Girona', 'GPE')], [('Al Nassr', 'PERSON'), ('Liverpool', 'GPE'), ('Alisson', 'PERSON'), ('Saudi Arabia', 'GPE')], [('Foot Mercato', 'PERSON'), ('Liverpool', 'GPE'), ('six', 'CARDINAL'), ('midfield', 'TIME'), ('Romeo Lavia', 'PERSON'), ('Moises Caicedo', 'PERSON'), ('Chelsea', 'ORG')], [('Fulham', 'ORG'), ('Joao Palhinha', 'ORG'), (\"Crystal Palace's\", 'ORG'), ('Cheick Doucoure', 'ORG')], [('Gabriel Magalhaes', 'PERSON'), ('Militao', 'PERSON'), ('ACL', 'ORG')], [('PL Brasil', 'ORG'), ('Tottenham', 'PERSON'), ('Eric Dier', 'PERSON')], []]\n"
     ]
    }
   ],
   "source": [
    "print(df[\"Content\"].iloc[0])\n",
    "print()\n",
    "print(df[\"ner_results\"].iloc[0])"
   ]
  },
  {
   "cell_type": "markdown",
   "metadata": {},
   "source": [
    "###### Observation\n",
    "The entities in the text have been identified and classified, though not 100% accurate, majorly correctly. We can see Harry Maguire calssified as a person which is correct and Totenham also listed as person which is slightly innacurate."
   ]
  },
  {
   "cell_type": "code",
   "execution_count": 29,
   "metadata": {
    "id": "Db2JE4_RRPdx"
   },
   "outputs": [],
   "source": []
  }
 ],
 "metadata": {
  "colab": {
   "provenance": []
  },
  "kernelspec": {
   "display_name": "Python 3 (ipykernel)",
   "language": "python",
   "name": "python3"
  },
  "language_info": {
   "codemirror_mode": {
    "name": "ipython",
    "version": 3
   },
   "file_extension": ".py",
   "mimetype": "text/x-python",
   "name": "python",
   "nbconvert_exporter": "python",
   "pygments_lexer": "ipython3",
   "version": "3.11.7"
  }
 },
 "nbformat": 4,
 "nbformat_minor": 4
}
